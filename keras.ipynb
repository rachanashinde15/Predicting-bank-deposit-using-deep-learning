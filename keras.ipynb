{
 "cells": [
  {
   "cell_type": "code",
   "execution_count": 1,
   "id": "6da718e4",
   "metadata": {},
   "outputs": [],
   "source": [
    "import tensorflow as tf\n",
    "from tensorflow import keras\n",
    "import numpy as np\n",
    "import matplotlib.pyplot as plt\n",
    "from keras.layers import Dropout\n",
    "\n",
    "from sklearn.metrics import classification_report\n",
    "import seaborn as sn"
   ]
  },
  {
   "cell_type": "code",
   "execution_count": 2,
   "id": "d8e68e49",
   "metadata": {},
   "outputs": [],
   "source": [
    "cTrain = np.loadtxt('Raw/train.csv')\n",
    "cTrainLabel = np.loadtxt('Raw/trainLabel.csv').astype(int)\n",
    "cTest = np.loadtxt('Raw/test.csv')\n",
    "cTestlabel = np.loadtxt('Raw/testLabel.csv').astype(int)"
   ]
  },
  {
   "cell_type": "code",
   "execution_count": 7,
   "id": "3895efab",
   "metadata": {},
   "outputs": [
    {
     "name": "stdout",
     "output_type": "stream",
     "text": [
      "WARNING:tensorflow:Please add `keras.layers.InputLayer` instead of `keras.Input` to Sequential model. `keras.Input` is intended to be used by Functional model.\n",
      "Epoch 1/50\n",
      "224/224 [==============================] - 2s 6ms/step - loss: 0.6093 - accuracy: 0.6585 - val_loss: 0.5412 - val_accuracy: 0.7234\n",
      "Epoch 2/50\n",
      "224/224 [==============================] - 1s 4ms/step - loss: 0.5266 - accuracy: 0.7417 - val_loss: 0.4727 - val_accuracy: 0.7861\n",
      "Epoch 3/50\n",
      "224/224 [==============================] - 1s 4ms/step - loss: 0.4916 - accuracy: 0.7695 - val_loss: 0.4811 - val_accuracy: 0.7660\n",
      "Epoch 4/50\n",
      "224/224 [==============================] - 1s 5ms/step - loss: 0.4764 - accuracy: 0.7777 - val_loss: 0.4587 - val_accuracy: 0.7889\n",
      "Epoch 5/50\n",
      "224/224 [==============================] - 1s 3ms/step - loss: 0.4674 - accuracy: 0.7867 - val_loss: 0.4576 - val_accuracy: 0.7844\n",
      "Epoch 6/50\n",
      "224/224 [==============================] - 1s 3ms/step - loss: 0.4580 - accuracy: 0.7874 - val_loss: 0.4598 - val_accuracy: 0.7872\n",
      "Epoch 7/50\n",
      "224/224 [==============================] - 1s 4ms/step - loss: 0.4592 - accuracy: 0.7882 - val_loss: 0.4637 - val_accuracy: 0.7816\n",
      "Epoch 8/50\n",
      "224/224 [==============================] - 1s 4ms/step - loss: 0.4523 - accuracy: 0.7941 - val_loss: 0.4473 - val_accuracy: 0.7951\n",
      "Epoch 9/50\n",
      "224/224 [==============================] - 1s 4ms/step - loss: 0.4482 - accuracy: 0.7965 - val_loss: 0.4545 - val_accuracy: 0.7872\n",
      "Epoch 10/50\n",
      "224/224 [==============================] - 1s 4ms/step - loss: 0.4453 - accuracy: 0.7972 - val_loss: 0.4485 - val_accuracy: 0.8012\n",
      "Epoch 11/50\n",
      "224/224 [==============================] - 1s 3ms/step - loss: 0.4427 - accuracy: 0.7984 - val_loss: 0.4475 - val_accuracy: 0.7984\n",
      "Epoch 12/50\n",
      "224/224 [==============================] - 1s 4ms/step - loss: 0.4440 - accuracy: 0.7962 - val_loss: 0.4465 - val_accuracy: 0.7962\n",
      "Epoch 13/50\n",
      "224/224 [==============================] - 1s 4ms/step - loss: 0.4407 - accuracy: 0.8026 - val_loss: 0.4545 - val_accuracy: 0.7923\n",
      "Epoch 14/50\n",
      "224/224 [==============================] - 1s 4ms/step - loss: 0.4349 - accuracy: 0.8046 - val_loss: 0.4451 - val_accuracy: 0.7990\n",
      "Epoch 15/50\n",
      "224/224 [==============================] - 1s 4ms/step - loss: 0.4389 - accuracy: 0.8028 - val_loss: 0.4557 - val_accuracy: 0.7928\n",
      "Epoch 16/50\n",
      "224/224 [==============================] - 1s 4ms/step - loss: 0.4361 - accuracy: 0.7989 - val_loss: 0.4558 - val_accuracy: 0.7895\n",
      "Epoch 17/50\n",
      "224/224 [==============================] - 1s 4ms/step - loss: 0.4322 - accuracy: 0.8024 - val_loss: 0.4446 - val_accuracy: 0.8018\n",
      "Epoch 18/50\n",
      "224/224 [==============================] - 1s 4ms/step - loss: 0.4342 - accuracy: 0.7991 - val_loss: 0.4539 - val_accuracy: 0.7951\n",
      "Epoch 19/50\n",
      "224/224 [==============================] - ETA: 0s - loss: 0.4306 - accuracy: 0.80 - 1s 4ms/step - loss: 0.4321 - accuracy: 0.8035 - val_loss: 0.4428 - val_accuracy: 0.8040\n",
      "Epoch 20/50\n",
      "224/224 [==============================] - 1s 3ms/step - loss: 0.4301 - accuracy: 0.8061 - val_loss: 0.4385 - val_accuracy: 0.8035\n",
      "Epoch 21/50\n",
      "224/224 [==============================] - 1s 4ms/step - loss: 0.4276 - accuracy: 0.8035 - val_loss: 0.4599 - val_accuracy: 0.7990\n",
      "Epoch 22/50\n",
      "224/224 [==============================] - 1s 4ms/step - loss: 0.4284 - accuracy: 0.8080 - val_loss: 0.4441 - val_accuracy: 0.7984\n",
      "Epoch 23/50\n",
      "224/224 [==============================] - 1s 4ms/step - loss: 0.4285 - accuracy: 0.8070 - val_loss: 0.4450 - val_accuracy: 0.7973\n",
      "Epoch 24/50\n",
      "224/224 [==============================] - 1s 5ms/step - loss: 0.4249 - accuracy: 0.8074 - val_loss: 0.4435 - val_accuracy: 0.8063\n",
      "Epoch 25/50\n",
      "224/224 [==============================] - 1s 5ms/step - loss: 0.4259 - accuracy: 0.8085 - val_loss: 0.4446 - val_accuracy: 0.8029\n",
      "Epoch 26/50\n",
      "224/224 [==============================] - 1s 3ms/step - loss: 0.4220 - accuracy: 0.8077 - val_loss: 0.4436 - val_accuracy: 0.8012\n",
      "Epoch 27/50\n",
      "224/224 [==============================] - 1s 4ms/step - loss: 0.4241 - accuracy: 0.8096 - val_loss: 0.4435 - val_accuracy: 0.8040\n",
      "Epoch 28/50\n",
      "224/224 [==============================] - 1s 4ms/step - loss: 0.4206 - accuracy: 0.8057 - val_loss: 0.4405 - val_accuracy: 0.8007\n",
      "Epoch 29/50\n",
      "224/224 [==============================] - 1s 4ms/step - loss: 0.4202 - accuracy: 0.8110 - val_loss: 0.4440 - val_accuracy: 0.8024\n",
      "Epoch 30/50\n",
      "224/224 [==============================] - 1s 4ms/step - loss: 0.4204 - accuracy: 0.8075 - val_loss: 0.4486 - val_accuracy: 0.8024\n",
      "Epoch 31/50\n",
      "224/224 [==============================] - 1s 3ms/step - loss: 0.4186 - accuracy: 0.8135 - val_loss: 0.4409 - val_accuracy: 0.8035\n",
      "Epoch 32/50\n",
      "224/224 [==============================] - 1s 4ms/step - loss: 0.4159 - accuracy: 0.8180 - val_loss: 0.4415 - val_accuracy: 0.8007\n",
      "Epoch 33/50\n",
      "224/224 [==============================] - 1s 4ms/step - loss: 0.4183 - accuracy: 0.8128 - val_loss: 0.4438 - val_accuracy: 0.8018\n",
      "Epoch 34/50\n",
      "224/224 [==============================] - 1s 4ms/step - loss: 0.4144 - accuracy: 0.8102 - val_loss: 0.4410 - val_accuracy: 0.8046\n",
      "Epoch 35/50\n",
      "224/224 [==============================] - 1s 4ms/step - loss: 0.4163 - accuracy: 0.8110 - val_loss: 0.4420 - val_accuracy: 0.8063\n",
      "Epoch 36/50\n",
      "224/224 [==============================] - 1s 4ms/step - loss: 0.4134 - accuracy: 0.8140 - val_loss: 0.4442 - val_accuracy: 0.8040\n",
      "Epoch 37/50\n",
      "224/224 [==============================] - 1s 4ms/step - loss: 0.4104 - accuracy: 0.8124 - val_loss: 0.4464 - val_accuracy: 0.8046\n",
      "Epoch 38/50\n",
      "224/224 [==============================] - 1s 4ms/step - loss: 0.4137 - accuracy: 0.8120 - val_loss: 0.4370 - val_accuracy: 0.8102\n",
      "Epoch 39/50\n",
      "224/224 [==============================] - 1s 4ms/step - loss: 0.4104 - accuracy: 0.8154 - val_loss: 0.4408 - val_accuracy: 0.8052\n",
      "Epoch 40/50\n",
      "224/224 [==============================] - 1s 4ms/step - loss: 0.4113 - accuracy: 0.8137 - val_loss: 0.4477 - val_accuracy: 0.8057\n",
      "Epoch 41/50\n",
      "224/224 [==============================] - 1s 4ms/step - loss: 0.4102 - accuracy: 0.8130 - val_loss: 0.4471 - val_accuracy: 0.8080\n",
      "Epoch 42/50\n",
      "224/224 [==============================] - 1s 4ms/step - loss: 0.4129 - accuracy: 0.8138 - val_loss: 0.4480 - val_accuracy: 0.7990\n",
      "Epoch 43/50\n",
      "224/224 [==============================] - 1s 4ms/step - loss: 0.4101 - accuracy: 0.8156 - val_loss: 0.4519 - val_accuracy: 0.7996\n",
      "Epoch 44/50\n",
      "224/224 [==============================] - 1s 4ms/step - loss: 0.4108 - accuracy: 0.8151 - val_loss: 0.4414 - val_accuracy: 0.8096\n",
      "Epoch 45/50\n",
      "224/224 [==============================] - 1s 4ms/step - loss: 0.4087 - accuracy: 0.8176 - val_loss: 0.4543 - val_accuracy: 0.8007\n",
      "Epoch 46/50\n",
      "224/224 [==============================] - 1s 5ms/step - loss: 0.4055 - accuracy: 0.8183 - val_loss: 0.4401 - val_accuracy: 0.8063\n",
      "Epoch 47/50\n",
      "224/224 [==============================] - 1s 5ms/step - loss: 0.4064 - accuracy: 0.8180 - val_loss: 0.4525 - val_accuracy: 0.8001\n",
      "Epoch 48/50\n",
      "224/224 [==============================] - 1s 4ms/step - loss: 0.4063 - accuracy: 0.8145 - val_loss: 0.4448 - val_accuracy: 0.8135\n",
      "Epoch 49/50\n",
      "224/224 [==============================] - 1s 4ms/step - loss: 0.4057 - accuracy: 0.8163 - val_loss: 0.4392 - val_accuracy: 0.8113\n",
      "Epoch 50/50\n",
      "224/224 [==============================] - 1s 5ms/step - loss: 0.4059 - accuracy: 0.8138 - val_loss: 0.4421 - val_accuracy: 0.8074\n"
     ]
    }
   ],
   "source": [
    "cModel = keras.Sequential()\n",
    "cModel.add(keras.Input(shape=(15,)))\n",
    "cModel.add(keras.layers.Dense(64, activation='relu'))\n",
    "cModel.add(Dropout(0.2))\n",
    "cModel.add(keras.layers.Dense(128, activation='relu'))\n",
    "cModel.add(Dropout(0.2))\n",
    "cModel.add(keras.layers.Dense(256, activation='relu'))\n",
    "\n",
    "cModel.add(keras.layers.Dense(1,activation='sigmoid'))\n",
    "\n",
    "cModel.compile(optimizer='adam',\n",
    "              loss='binary_crossentropy',\n",
    "              metrics=['accuracy'])\n",
    "\n",
    "cHist = cModel.fit(cTrain,cTrainLabel,validation_split=0.2,epochs=50)"
   ]
  },
  {
   "cell_type": "code",
   "execution_count": 8,
   "id": "f3f70e0c",
   "metadata": {},
   "outputs": [
    {
     "data": {
      "text/plain": [
       "Text(0, 0.5, 'Training Loss')"
      ]
     },
     "execution_count": 8,
     "metadata": {},
     "output_type": "execute_result"
    },
    {
     "data": {
      "image/png": "[encoded data removed]",
      "text/plain": [
       "<Figure size 432x288 with 1 Axes>"
      ]
     },
     "metadata": {
      "needs_background": "light"
     },
     "output_type": "display_data"
    }
   ],
   "source": [
    "plt.plot(cHist.history['loss'])\n",
    "plt.plot(cHist.history['val_loss'])\n",
    "plt.grid()\n",
    "plt.xlabel('Epochs')\n",
    "plt.ylabel('Training Loss')"
   ]
  },
  {
   "cell_type": "code",
   "execution_count": 9,
   "id": "3433e3ac",
   "metadata": {},
   "outputs": [
    {
     "name": "stdout",
     "output_type": "stream",
     "text": [
      "Model: \"sequential_1\"\n",
      "_________________________________________________________________\n",
      "Layer (type)                 Output Shape              Param #   \n",
      "=================================================================\n",
      "dense_4 (Dense)              (None, 64)                1024      \n",
      "_________________________________________________________________\n",
      "module_wrapper_2 (ModuleWrap (None, 64)                0         \n",
      "_________________________________________________________________\n",
      "dense_5 (Dense)              (None, 128)               8320      \n",
      "_________________________________________________________________\n",
      "module_wrapper_3 (ModuleWrap (None, 128)               0         \n",
      "_________________________________________________________________\n",
      "dense_6 (Dense)              (None, 256)               33024     \n",
      "_________________________________________________________________\n",
      "dense_7 (Dense)              (None, 1)                 257       \n",
      "=================================================================\n",
      "Total params: 42,625\n",
      "Trainable params: 42,625\n",
      "Non-trainable params: 0\n",
      "_________________________________________________________________\n"
     ]
    }
   ],
   "source": [
    "cModel.summary()"
   ]
  },
  {
   "cell_type": "code",
   "execution_count": 10,
   "id": "126d3a95",
   "metadata": {},
   "outputs": [
    {
     "data": {
      "text/plain": [
       "Text(0, 0.5, 'Training Accuracy')"
      ]
     },
     "execution_count": 10,
     "metadata": {},
     "output_type": "execute_result"
    },
    {
     "data": {
      "image/png": "[encoded data removed]",
      "text/plain": [
       "<Figure size 432x288 with 1 Axes>"
      ]
     },
     "metadata": {
      "needs_background": "light"
     },
     "output_type": "display_data"
    }
   ],
   "source": [
    "plt.plot(cHist.history['accuracy'])\n",
    "plt.plot(cHist.history['val_accuracy'])\n",
    "plt.grid()\n",
    "plt.xlabel('Epochs')\n",
    "plt.ylabel('Training Accuracy')"
   ]
  },
  {
   "cell_type": "code",
   "execution_count": 11,
   "id": "67694117",
   "metadata": {},
   "outputs": [
    {
     "name": "stdout",
     "output_type": "stream",
     "text": [
      "70/70 [==============================] - 0s 2ms/step - loss: 0.4185 - accuracy: 0.8060\n"
     ]
    },
    {
     "data": {
      "text/plain": [
       "[0.41846582293510437, 0.8060035705566406]"
      ]
     },
     "execution_count": 11,
     "metadata": {},
     "output_type": "execute_result"
    }
   ],
   "source": [
    "cModel.evaluate(cTest, cTestlabel)"
   ]
  },
  {
   "cell_type": "code",
   "execution_count": 12,
   "id": "272b9163",
   "metadata": {},
   "outputs": [
    {
     "data": {
      "text/plain": [
       "array([0.43031654, 0.80500597, 0.86428905], dtype=float32)"
      ]
     },
     "execution_count": 12,
     "metadata": {},
     "output_type": "execute_result"
    }
   ],
   "source": [
    "cPreds = cModel.predict(cTest)\n",
    "cPreds = cPreds.flatten()\n",
    "cPreds[:3]"
   ]
  },
  {
   "cell_type": "code",
   "execution_count": 13,
   "id": "3b1ac2ae",
   "metadata": {},
   "outputs": [],
   "source": [
    "cPredsLabels = []\n",
    "#cPredsLabels[0:]\n",
    "for element in cPreds:\n",
    "    cPredsLabels.append(int(round(element)))\n",
    "cPredsLabelsA = np.array(cPredsLabels)"
   ]
  },
  {
   "cell_type": "code",
   "execution_count": 14,
   "id": "b844b0c4",
   "metadata": {},
   "outputs": [
    {
     "name": "stdout",
     "output_type": "stream",
     "text": [
      "[0 1 1 1 1 0 1 1 1 1]\n",
      "[1 1 1 1 1 1 1 1 1 1]\n"
     ]
    }
   ],
   "source": [
    "print(cPredsLabelsA[:10])\n",
    "print(cTestlabel[:10])"
   ]
  },
  {
   "cell_type": "code",
   "execution_count": 15,
   "id": "dace9062",
   "metadata": {},
   "outputs": [
    {
     "name": "stdout",
     "output_type": "stream",
     "text": [
      "              precision    recall  f1-score   support\n",
      "\n",
      "           0       0.83      0.79      0.81      1182\n",
      "           1       0.78      0.82      0.80      1050\n",
      "\n",
      "    accuracy                           0.81      2232\n",
      "   macro avg       0.81      0.81      0.81      2232\n",
      "weighted avg       0.81      0.81      0.81      2232\n",
      "\n"
     ]
    }
   ],
   "source": [
    "print(classification_report(cTestlabel,cPredsLabelsA))"
   ]
  },
  {
   "cell_type": "code",
   "execution_count": 16,
   "id": "9e84f83b",
   "metadata": {},
   "outputs": [
    {
     "data": {
      "text/plain": [
       "Text(33.0, 0.5, 'Truth')"
      ]
     },
     "execution_count": 16,
     "metadata": {},
     "output_type": "execute_result"
    },
    {
     "data": {
      "image/png": "[encoded data removed]",
      "text/plain": [
       "<Figure size 432x288 with 2 Axes>"
      ]
     },
     "metadata": {
      "needs_background": "light"
     },
     "output_type": "display_data"
    }
   ],
   "source": [
    "confusion_matrix = tf.math.confusion_matrix(labels=cTestlabel, predictions=cPredsLabelsA)\n",
    "\n",
    "sn.heatmap(confusion_matrix,annot=True, cmap='RdYlGn', fmt='d')\n",
    "plt.xlabel('predicted')\n",
    "plt.ylabel('Truth')"
   ]
  },
  {
   "cell_type": "code",
   "execution_count": null,
   "id": "2df4a911",
   "metadata": {},
   "outputs": [],
   "source": []
  }
 ],
 "metadata": {
  "kernelspec": {
   "display_name": "Python 3",
   "language": "python",
   "name": "python3"
  },
  "language_info": {
   "codemirror_mode": {
    "name": "ipython",
    "version": 3
   },
   "file_extension": ".py",
   "mimetype": "text/x-python",
   "name": "python",
   "nbconvert_exporter": "python",
   "pygments_lexer": "ipython3",
   "version": "3.9.4"
  }
 },
 "nbformat": 4,
 "nbformat_minor": 5
}
