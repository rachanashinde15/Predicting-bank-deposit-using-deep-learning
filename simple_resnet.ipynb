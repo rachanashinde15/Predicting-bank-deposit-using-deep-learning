{
  "nbformat": 4,
  "nbformat_minor": 0,
  "metadata": {
    "colab": {
      "name": "simple resnet.ipynb",
      "provenance": [],
      "authorship_tag": "ABX9TyNZ/jjM+XSA3IXjCTn8jZMv",
      "include_colab_link": true
    },
    "kernelspec": {
      "name": "python3",
      "display_name": "Python 3"
    },
    "language_info": {
      "name": "python"
    },
    "accelerator": "GPU",
    "gpuClass": "standard"
  },
  "cells": [
    {
      "cell_type": "markdown",
      "metadata": {
        "id": "view-in-github",
        "colab_type": "text"
      },
      "source": [
        "<a href=\"https://colab.research.google.com/github/rachanashinde15/Predicting-bank-deposit-using-deep-learning/blob/main/simple_resnet.ipynb\" target=\"_parent\"><img src=\"https://colab.research.google.com/assets/colab-badge.svg\" alt=\"Open In Colab\"/></a>"
      ]
    },
    {
      "cell_type": "code",
      "execution_count": 100,
      "metadata": {
        "id": "7j4mJumUFGVA"
      },
      "outputs": [],
      "source": [
        "import tensorflow as tf\n",
        "import tensorflow.keras as keras\n",
        "from tensorflow.keras import datasets, layers, models,Sequential\n",
        "from tensorflow.keras.optimizers import Adam\n",
        "\n",
        "from keras.layers import Input, Add, Dense, Activation, ZeroPadding2D, BatchNormalization, Flatten, Conv2D, AveragePooling2D, MaxPooling2D, GlobalMaxPooling2D,MaxPool2D\n",
        "from tensorflow.keras.models import Model\n",
        "from keras.initializers import glorot_uniform\n",
        "import matplotlib.pyplot as plt\n",
        "import numpy as np"
      ]
    },
    {
      "cell_type": "code",
      "source": [
        "(X_train, y_train), (X_test,y_test) = datasets.cifar100.load_data()\n",
        "X_train.shape"
      ],
      "metadata": {
        "colab": {
          "base_uri": "https://localhost:8080/"
        },
        "id": "yaFiTAAHFqDN",
        "outputId": "744e199f-2a7e-4eae-b941-7b30381603ed"
      },
      "execution_count": 101,
      "outputs": [
        {
          "output_type": "execute_result",
          "data": {
            "text/plain": [
              "(50000, 32, 32, 3)"
            ]
          },
          "metadata": {},
          "execution_count": 101
        }
      ]
    },
    {
      "cell_type": "code",
      "source": [
        "X_test.shape"
      ],
      "metadata": {
        "colab": {
          "base_uri": "https://localhost:8080/"
        },
        "id": "dc0NHENuF0wE",
        "outputId": "c7402202-b054-4649-b1f7-dfc343d78f10"
      },
      "execution_count": 102,
      "outputs": [
        {
          "output_type": "execute_result",
          "data": {
            "text/plain": [
              "(10000, 32, 32, 3)"
            ]
          },
          "metadata": {},
          "execution_count": 102
        }
      ]
    },
    {
      "cell_type": "code",
      "source": [
        "y_train.shape\n"
      ],
      "metadata": {
        "colab": {
          "base_uri": "https://localhost:8080/"
        },
        "id": "l4H4O9FLF2xM",
        "outputId": "51eebdc5-4eb8-4f4b-ff0c-decda865bf67"
      },
      "execution_count": 103,
      "outputs": [
        {
          "output_type": "execute_result",
          "data": {
            "text/plain": [
              "(50000, 1)"
            ]
          },
          "metadata": {},
          "execution_count": 103
        }
      ]
    },
    {
      "cell_type": "code",
      "source": [
        "y_train = y_train.reshape(-1,)\n",
        "y_train[:5]"
      ],
      "metadata": {
        "colab": {
          "base_uri": "https://localhost:8080/"
        },
        "id": "uywrlYLC9r9K",
        "outputId": "906e8f7f-a3c5-4b48-c70e-35dd658bec4c"
      },
      "execution_count": 104,
      "outputs": [
        {
          "output_type": "execute_result",
          "data": {
            "text/plain": [
              "array([19, 29,  0, 11,  1])"
            ]
          },
          "metadata": {},
          "execution_count": 104
        }
      ]
    },
    {
      "cell_type": "code",
      "source": [
        "y_test = y_test.reshape(-1,)"
      ],
      "metadata": {
        "id": "k6oV-Ngh9x7P"
      },
      "execution_count": 105,
      "outputs": []
    },
    {
      "cell_type": "code",
      "source": [
        "y_train[:5]\n"
      ],
      "metadata": {
        "colab": {
          "base_uri": "https://localhost:8080/"
        },
        "id": "1nRrUh6mF8ie",
        "outputId": "e96feb6a-0d7f-4048-9729-48d7208c4a8d"
      },
      "execution_count": 106,
      "outputs": [
        {
          "output_type": "execute_result",
          "data": {
            "text/plain": [
              "array([19, 29,  0, 11,  1])"
            ]
          },
          "metadata": {},
          "execution_count": 106
        }
      ]
    },
    {
      "cell_type": "code",
      "source": [
        "#normalizing the data\n",
        "X_train = X_train / 255.0\n",
        "X_test = X_test / 255.0"
      ],
      "metadata": {
        "id": "nm2XBSZJGJoe"
      },
      "execution_count": 107,
      "outputs": []
    },
    {
      "cell_type": "code",
      "source": [
        "y_train = keras.utils.to_categorical(y_train, 100)\n",
        "y_test = keras.utils.to_categorical(y_test, 100)"
      ],
      "metadata": {
        "id": "FroE8Dxx-ol0"
      },
      "execution_count": 108,
      "outputs": []
    },
    {
      "cell_type": "code",
      "source": [
        ""
      ],
      "metadata": {
        "id": "jDjJ90tQRUc-"
      },
      "execution_count": null,
      "outputs": []
    },
    {
      "cell_type": "code",
      "source": [
        "def identity_block(X, f, filters):\n",
        "   \n",
        "    \n",
        "    F1, F2, F3 = filters\n",
        "\n",
        "    X_shortcut = X\n",
        "   \n",
        "    X = Conv2D(filters=F1, kernel_size=(1, 1), strides=(1, 1), padding='valid')(X)\n",
        "    X = BatchNormalization(axis=3)(X)\n",
        "    X = Activation('relu')(X)\n",
        "\n",
        "    X = Conv2D(filters=F2, kernel_size=(f, f), strides=(1, 1), padding='same')(X)\n",
        "    X = BatchNormalization(axis=3)(X)\n",
        "    X = Activation('relu')(X)\n",
        "\n",
        "    X = Conv2D(filters=F3, kernel_size=(1, 1), strides=(1, 1), padding='valid')(X)\n",
        "    X = BatchNormalization(axis=3)(X)\n",
        "\n",
        "    X = Add()([X, X_shortcut])# SKIP Connection\n",
        "    X = Activation('relu')(X)\n",
        "\n",
        "    return X"
      ],
      "metadata": {
        "id": "mvJBT5VjVsSo"
      },
      "execution_count": 109,
      "outputs": []
    },
    {
      "cell_type": "code",
      "source": [
        "def convolutional_block(X, f, filters,s=2):\n",
        "   \n",
        "    \n",
        "    F1, F2, F3 = filters\n",
        "\n",
        "    X_shortcut = X\n",
        "\n",
        "    X = Conv2D(filters=F1, kernel_size=(1, 1), strides=(s, s), padding='valid')(X)\n",
        "    X = BatchNormalization(axis=3)(X)\n",
        "    X = Activation('relu')(X)\n",
        "\n",
        "    X = Conv2D(filters=F2, kernel_size=(f, f), strides=(1, 1), padding='same')(X)\n",
        "    X = BatchNormalization(axis=3)(X)\n",
        "    X = Activation('relu')(X)\n",
        "\n",
        "    X = Conv2D(filters=F3, kernel_size=(1, 1), strides=(1, 1), padding='valid')(X)\n",
        "    X = BatchNormalization(axis=3)(X)\n",
        "\n",
        "    X_shortcut = Conv2D(filters=F3, kernel_size=(1, 1), strides=(s, s), padding='valid')(X_shortcut)\n",
        "    X_shortcut = BatchNormalization(axis=3)(X_shortcut)\n",
        "\n",
        "    X = Add()([X, X_shortcut])\n",
        "    X = Activation('relu')(X)\n",
        "\n",
        "    return X"
      ],
      "metadata": {
        "id": "BJjisc--W4jB"
      },
      "execution_count": 110,
      "outputs": []
    },
    {
      "cell_type": "code",
      "source": [
        "def ResNet50(input_shape=(32, 32, 3),classes = 100):\n",
        "\n",
        "    X_input = Input(input_shape)\n",
        "\n",
        "    X = ZeroPadding2D((3, 3))(X_input)\n",
        "\n",
        "    X = Conv2D(64, (7, 7), strides=(2, 2))(X)\n",
        "    X = BatchNormalization(axis=3)(X)\n",
        "    X = Activation('relu')(X)\n",
        "    X = MaxPooling2D((3, 3), strides=(2, 2))(X)\n",
        "\n",
        "    X = convolutional_block(X, f=3, filters=[64, 64, 256], s=1)\n",
        "    X = identity_block(X, 3, [64, 64, 256])\n",
        "    X = identity_block(X, 3, [64, 64, 256])\n",
        "\n",
        "\n",
        "    X = convolutional_block(X, f=3, filters=[128, 128, 512], s=2)\n",
        "    X = identity_block(X, 3, [128, 128, 512])\n",
        "    X = identity_block(X, 3, [128, 128, 512])\n",
        "    X = identity_block(X, 3, [128, 128, 512])\n",
        "\n",
        "    X = convolutional_block(X, f=3, filters=[256, 256, 1024], s=2)\n",
        "    X = identity_block(X, 3, [256, 256, 1024])\n",
        "    X = identity_block(X, 3, [256, 256, 1024])\n",
        "    X = identity_block(X, 3, [256, 256, 1024])\n",
        "    X = identity_block(X, 3, [256, 256, 1024])\n",
        "    X = identity_block(X, 3, [256, 256, 1024])\n",
        "\n",
        "    X = X = convolutional_block(X, f=3, filters=[512, 512, 2048], s=2)\n",
        "    X = identity_block(X, 3, [512, 512, 2048])\n",
        "    X = identity_block(X, 3, [512, 512, 2048])\n",
        "\n",
        "    X = AveragePooling2D(pool_size=(2, 2), padding='same')(X)\n",
        "\n",
        "    X = Flatten()(X)\n",
        "    X = Dense(classes, activation='softmax',name='fc' +str(classes), kernel_initializer = glorot_uniform(seed=0))(X)\n",
        "    \n",
        "    model = Model(inputs=X_input, outputs=X, name='ResNet50')\n",
        "\n",
        "    return model\n",
        "\n"
      ],
      "metadata": {
        "id": "KJK1X1-cZW6y"
      },
      "execution_count": 111,
      "outputs": []
    },
    {
      "cell_type": "code",
      "source": [
        "#resnet = Sequential()\n",
        "#pretrained_model= tf.keras.applications.ResNet50(include_top=False,\n",
        "                   #input_shape=None,\n",
        "                   #pooling='max',classes=100,\n",
        "                   #weights='imagenet')\n",
        "#resnet.add(pretrained_model)\n",
        "#resnet.add(Flatten())\n",
        "#resnet.add(Dense(512, activation='relu'))\n",
        "#resnet.add(Dense(5, activation='softmax'))\n"
      ],
      "metadata": {
        "id": "sw8Y-KzkGNVc"
      },
      "execution_count": 112,
      "outputs": []
    },
    {
      "cell_type": "code",
      "source": [
        "model = ResNet50(input_shape = (32,32,3),classes=100)"
      ],
      "metadata": {
        "id": "G1im8iwh1r9Q"
      },
      "execution_count": 113,
      "outputs": []
    },
    {
      "cell_type": "code",
      "source": [
        "h = model.compile(optimizer='adam',\n",
        "              loss='categorical_crossentropy',\n",
        "              metrics=['accuracy'])"
      ],
      "metadata": {
        "id": "LQ4cq6fBGRTG"
      },
      "execution_count": 114,
      "outputs": []
    },
    {
      "cell_type": "code",
      "source": [
        "h = model.summary()"
      ],
      "metadata": {
        "colab": {
          "base_uri": "https://localhost:8080/"
        },
        "id": "HFM3nlb3GW_b",
        "outputId": "306425e2-f72b-4db4-d6b6-7c1be24a4f74"
      },
      "execution_count": 115,
      "outputs": [
        {
          "output_type": "stream",
          "name": "stdout",
          "text": [
            "Model: \"ResNet50\"\n",
            "__________________________________________________________________________________________________\n",
            " Layer (type)                   Output Shape         Param #     Connected to                     \n",
            "==================================================================================================\n",
            " input_8 (InputLayer)           [(None, 32, 32, 3)]  0           []                               \n",
            "                                                                                                  \n",
            " zero_padding2d_7 (ZeroPadding2  (None, 38, 38, 3)   0           ['input_8[0][0]']                \n",
            " D)                                                                                               \n",
            "                                                                                                  \n",
            " conv2d_371 (Conv2D)            (None, 16, 16, 64)   9472        ['zero_padding2d_7[0][0]']       \n",
            "                                                                                                  \n",
            " batch_normalization_371 (Batch  (None, 16, 16, 64)  256         ['conv2d_371[0][0]']             \n",
            " Normalization)                                                                                   \n",
            "                                                                                                  \n",
            " activation_343 (Activation)    (None, 16, 16, 64)   0           ['batch_normalization_371[0][0]']\n",
            "                                                                                                  \n",
            " max_pooling2d_7 (MaxPooling2D)  (None, 7, 7, 64)    0           ['activation_343[0][0]']         \n",
            "                                                                                                  \n",
            " conv2d_372 (Conv2D)            (None, 7, 7, 64)     4160        ['max_pooling2d_7[0][0]']        \n",
            "                                                                                                  \n",
            " batch_normalization_372 (Batch  (None, 7, 7, 64)    256         ['conv2d_372[0][0]']             \n",
            " Normalization)                                                                                   \n",
            "                                                                                                  \n",
            " activation_344 (Activation)    (None, 7, 7, 64)     0           ['batch_normalization_372[0][0]']\n",
            "                                                                                                  \n",
            " conv2d_373 (Conv2D)            (None, 7, 7, 64)     36928       ['activation_344[0][0]']         \n",
            "                                                                                                  \n",
            " batch_normalization_373 (Batch  (None, 7, 7, 64)    256         ['conv2d_373[0][0]']             \n",
            " Normalization)                                                                                   \n",
            "                                                                                                  \n",
            " activation_345 (Activation)    (None, 7, 7, 64)     0           ['batch_normalization_373[0][0]']\n",
            "                                                                                                  \n",
            " conv2d_374 (Conv2D)            (None, 7, 7, 256)    16640       ['activation_345[0][0]']         \n",
            "                                                                                                  \n",
            " conv2d_375 (Conv2D)            (None, 7, 7, 256)    16640       ['max_pooling2d_7[0][0]']        \n",
            "                                                                                                  \n",
            " batch_normalization_374 (Batch  (None, 7, 7, 256)   1024        ['conv2d_374[0][0]']             \n",
            " Normalization)                                                                                   \n",
            "                                                                                                  \n",
            " batch_normalization_375 (Batch  (None, 7, 7, 256)   1024        ['conv2d_375[0][0]']             \n",
            " Normalization)                                                                                   \n",
            "                                                                                                  \n",
            " add_112 (Add)                  (None, 7, 7, 256)    0           ['batch_normalization_374[0][0]',\n",
            "                                                                  'batch_normalization_375[0][0]']\n",
            "                                                                                                  \n",
            " activation_346 (Activation)    (None, 7, 7, 256)    0           ['add_112[0][0]']                \n",
            "                                                                                                  \n",
            " conv2d_376 (Conv2D)            (None, 7, 7, 64)     16448       ['activation_346[0][0]']         \n",
            "                                                                                                  \n",
            " batch_normalization_376 (Batch  (None, 7, 7, 64)    256         ['conv2d_376[0][0]']             \n",
            " Normalization)                                                                                   \n",
            "                                                                                                  \n",
            " activation_347 (Activation)    (None, 7, 7, 64)     0           ['batch_normalization_376[0][0]']\n",
            "                                                                                                  \n",
            " conv2d_377 (Conv2D)            (None, 7, 7, 64)     36928       ['activation_347[0][0]']         \n",
            "                                                                                                  \n",
            " batch_normalization_377 (Batch  (None, 7, 7, 64)    256         ['conv2d_377[0][0]']             \n",
            " Normalization)                                                                                   \n",
            "                                                                                                  \n",
            " activation_348 (Activation)    (None, 7, 7, 64)     0           ['batch_normalization_377[0][0]']\n",
            "                                                                                                  \n",
            " conv2d_378 (Conv2D)            (None, 7, 7, 256)    16640       ['activation_348[0][0]']         \n",
            "                                                                                                  \n",
            " batch_normalization_378 (Batch  (None, 7, 7, 256)   1024        ['conv2d_378[0][0]']             \n",
            " Normalization)                                                                                   \n",
            "                                                                                                  \n",
            " add_113 (Add)                  (None, 7, 7, 256)    0           ['batch_normalization_378[0][0]',\n",
            "                                                                  'activation_346[0][0]']         \n",
            "                                                                                                  \n",
            " activation_349 (Activation)    (None, 7, 7, 256)    0           ['add_113[0][0]']                \n",
            "                                                                                                  \n",
            " conv2d_379 (Conv2D)            (None, 7, 7, 64)     16448       ['activation_349[0][0]']         \n",
            "                                                                                                  \n",
            " batch_normalization_379 (Batch  (None, 7, 7, 64)    256         ['conv2d_379[0][0]']             \n",
            " Normalization)                                                                                   \n",
            "                                                                                                  \n",
            " activation_350 (Activation)    (None, 7, 7, 64)     0           ['batch_normalization_379[0][0]']\n",
            "                                                                                                  \n",
            " conv2d_380 (Conv2D)            (None, 7, 7, 64)     36928       ['activation_350[0][0]']         \n",
            "                                                                                                  \n",
            " batch_normalization_380 (Batch  (None, 7, 7, 64)    256         ['conv2d_380[0][0]']             \n",
            " Normalization)                                                                                   \n",
            "                                                                                                  \n",
            " activation_351 (Activation)    (None, 7, 7, 64)     0           ['batch_normalization_380[0][0]']\n",
            "                                                                                                  \n",
            " conv2d_381 (Conv2D)            (None, 7, 7, 256)    16640       ['activation_351[0][0]']         \n",
            "                                                                                                  \n",
            " batch_normalization_381 (Batch  (None, 7, 7, 256)   1024        ['conv2d_381[0][0]']             \n",
            " Normalization)                                                                                   \n",
            "                                                                                                  \n",
            " add_114 (Add)                  (None, 7, 7, 256)    0           ['batch_normalization_381[0][0]',\n",
            "                                                                  'activation_349[0][0]']         \n",
            "                                                                                                  \n",
            " activation_352 (Activation)    (None, 7, 7, 256)    0           ['add_114[0][0]']                \n",
            "                                                                                                  \n",
            " conv2d_382 (Conv2D)            (None, 4, 4, 128)    32896       ['activation_352[0][0]']         \n",
            "                                                                                                  \n",
            " batch_normalization_382 (Batch  (None, 4, 4, 128)   512         ['conv2d_382[0][0]']             \n",
            " Normalization)                                                                                   \n",
            "                                                                                                  \n",
            " activation_353 (Activation)    (None, 4, 4, 128)    0           ['batch_normalization_382[0][0]']\n",
            "                                                                                                  \n",
            " conv2d_383 (Conv2D)            (None, 4, 4, 128)    147584      ['activation_353[0][0]']         \n",
            "                                                                                                  \n",
            " batch_normalization_383 (Batch  (None, 4, 4, 128)   512         ['conv2d_383[0][0]']             \n",
            " Normalization)                                                                                   \n",
            "                                                                                                  \n",
            " activation_354 (Activation)    (None, 4, 4, 128)    0           ['batch_normalization_383[0][0]']\n",
            "                                                                                                  \n",
            " conv2d_384 (Conv2D)            (None, 4, 4, 512)    66048       ['activation_354[0][0]']         \n",
            "                                                                                                  \n",
            " conv2d_385 (Conv2D)            (None, 4, 4, 512)    131584      ['activation_352[0][0]']         \n",
            "                                                                                                  \n",
            " batch_normalization_384 (Batch  (None, 4, 4, 512)   2048        ['conv2d_384[0][0]']             \n",
            " Normalization)                                                                                   \n",
            "                                                                                                  \n",
            " batch_normalization_385 (Batch  (None, 4, 4, 512)   2048        ['conv2d_385[0][0]']             \n",
            " Normalization)                                                                                   \n",
            "                                                                                                  \n",
            " add_115 (Add)                  (None, 4, 4, 512)    0           ['batch_normalization_384[0][0]',\n",
            "                                                                  'batch_normalization_385[0][0]']\n",
            "                                                                                                  \n",
            " activation_355 (Activation)    (None, 4, 4, 512)    0           ['add_115[0][0]']                \n",
            "                                                                                                  \n",
            " conv2d_386 (Conv2D)            (None, 4, 4, 128)    65664       ['activation_355[0][0]']         \n",
            "                                                                                                  \n",
            " batch_normalization_386 (Batch  (None, 4, 4, 128)   512         ['conv2d_386[0][0]']             \n",
            " Normalization)                                                                                   \n",
            "                                                                                                  \n",
            " activation_356 (Activation)    (None, 4, 4, 128)    0           ['batch_normalization_386[0][0]']\n",
            "                                                                                                  \n",
            " conv2d_387 (Conv2D)            (None, 4, 4, 128)    147584      ['activation_356[0][0]']         \n",
            "                                                                                                  \n",
            " batch_normalization_387 (Batch  (None, 4, 4, 128)   512         ['conv2d_387[0][0]']             \n",
            " Normalization)                                                                                   \n",
            "                                                                                                  \n",
            " activation_357 (Activation)    (None, 4, 4, 128)    0           ['batch_normalization_387[0][0]']\n",
            "                                                                                                  \n",
            " conv2d_388 (Conv2D)            (None, 4, 4, 512)    66048       ['activation_357[0][0]']         \n",
            "                                                                                                  \n",
            " batch_normalization_388 (Batch  (None, 4, 4, 512)   2048        ['conv2d_388[0][0]']             \n",
            " Normalization)                                                                                   \n",
            "                                                                                                  \n",
            " add_116 (Add)                  (None, 4, 4, 512)    0           ['batch_normalization_388[0][0]',\n",
            "                                                                  'activation_355[0][0]']         \n",
            "                                                                                                  \n",
            " activation_358 (Activation)    (None, 4, 4, 512)    0           ['add_116[0][0]']                \n",
            "                                                                                                  \n",
            " conv2d_389 (Conv2D)            (None, 4, 4, 128)    65664       ['activation_358[0][0]']         \n",
            "                                                                                                  \n",
            " batch_normalization_389 (Batch  (None, 4, 4, 128)   512         ['conv2d_389[0][0]']             \n",
            " Normalization)                                                                                   \n",
            "                                                                                                  \n",
            " activation_359 (Activation)    (None, 4, 4, 128)    0           ['batch_normalization_389[0][0]']\n",
            "                                                                                                  \n",
            " conv2d_390 (Conv2D)            (None, 4, 4, 128)    147584      ['activation_359[0][0]']         \n",
            "                                                                                                  \n",
            " batch_normalization_390 (Batch  (None, 4, 4, 128)   512         ['conv2d_390[0][0]']             \n",
            " Normalization)                                                                                   \n",
            "                                                                                                  \n",
            " activation_360 (Activation)    (None, 4, 4, 128)    0           ['batch_normalization_390[0][0]']\n",
            "                                                                                                  \n",
            " conv2d_391 (Conv2D)            (None, 4, 4, 512)    66048       ['activation_360[0][0]']         \n",
            "                                                                                                  \n",
            " batch_normalization_391 (Batch  (None, 4, 4, 512)   2048        ['conv2d_391[0][0]']             \n",
            " Normalization)                                                                                   \n",
            "                                                                                                  \n",
            " add_117 (Add)                  (None, 4, 4, 512)    0           ['batch_normalization_391[0][0]',\n",
            "                                                                  'activation_358[0][0]']         \n",
            "                                                                                                  \n",
            " activation_361 (Activation)    (None, 4, 4, 512)    0           ['add_117[0][0]']                \n",
            "                                                                                                  \n",
            " conv2d_392 (Conv2D)            (None, 4, 4, 128)    65664       ['activation_361[0][0]']         \n",
            "                                                                                                  \n",
            " batch_normalization_392 (Batch  (None, 4, 4, 128)   512         ['conv2d_392[0][0]']             \n",
            " Normalization)                                                                                   \n",
            "                                                                                                  \n",
            " activation_362 (Activation)    (None, 4, 4, 128)    0           ['batch_normalization_392[0][0]']\n",
            "                                                                                                  \n",
            " conv2d_393 (Conv2D)            (None, 4, 4, 128)    147584      ['activation_362[0][0]']         \n",
            "                                                                                                  \n",
            " batch_normalization_393 (Batch  (None, 4, 4, 128)   512         ['conv2d_393[0][0]']             \n",
            " Normalization)                                                                                   \n",
            "                                                                                                  \n",
            " activation_363 (Activation)    (None, 4, 4, 128)    0           ['batch_normalization_393[0][0]']\n",
            "                                                                                                  \n",
            " conv2d_394 (Conv2D)            (None, 4, 4, 512)    66048       ['activation_363[0][0]']         \n",
            "                                                                                                  \n",
            " batch_normalization_394 (Batch  (None, 4, 4, 512)   2048        ['conv2d_394[0][0]']             \n",
            " Normalization)                                                                                   \n",
            "                                                                                                  \n",
            " add_118 (Add)                  (None, 4, 4, 512)    0           ['batch_normalization_394[0][0]',\n",
            "                                                                  'activation_361[0][0]']         \n",
            "                                                                                                  \n",
            " activation_364 (Activation)    (None, 4, 4, 512)    0           ['add_118[0][0]']                \n",
            "                                                                                                  \n",
            " conv2d_395 (Conv2D)            (None, 2, 2, 256)    131328      ['activation_364[0][0]']         \n",
            "                                                                                                  \n",
            " batch_normalization_395 (Batch  (None, 2, 2, 256)   1024        ['conv2d_395[0][0]']             \n",
            " Normalization)                                                                                   \n",
            "                                                                                                  \n",
            " activation_365 (Activation)    (None, 2, 2, 256)    0           ['batch_normalization_395[0][0]']\n",
            "                                                                                                  \n",
            " conv2d_396 (Conv2D)            (None, 2, 2, 256)    590080      ['activation_365[0][0]']         \n",
            "                                                                                                  \n",
            " batch_normalization_396 (Batch  (None, 2, 2, 256)   1024        ['conv2d_396[0][0]']             \n",
            " Normalization)                                                                                   \n",
            "                                                                                                  \n",
            " activation_366 (Activation)    (None, 2, 2, 256)    0           ['batch_normalization_396[0][0]']\n",
            "                                                                                                  \n",
            " conv2d_397 (Conv2D)            (None, 2, 2, 1024)   263168      ['activation_366[0][0]']         \n",
            "                                                                                                  \n",
            " conv2d_398 (Conv2D)            (None, 2, 2, 1024)   525312      ['activation_364[0][0]']         \n",
            "                                                                                                  \n",
            " batch_normalization_397 (Batch  (None, 2, 2, 1024)  4096        ['conv2d_397[0][0]']             \n",
            " Normalization)                                                                                   \n",
            "                                                                                                  \n",
            " batch_normalization_398 (Batch  (None, 2, 2, 1024)  4096        ['conv2d_398[0][0]']             \n",
            " Normalization)                                                                                   \n",
            "                                                                                                  \n",
            " add_119 (Add)                  (None, 2, 2, 1024)   0           ['batch_normalization_397[0][0]',\n",
            "                                                                  'batch_normalization_398[0][0]']\n",
            "                                                                                                  \n",
            " activation_367 (Activation)    (None, 2, 2, 1024)   0           ['add_119[0][0]']                \n",
            "                                                                                                  \n",
            " conv2d_399 (Conv2D)            (None, 2, 2, 256)    262400      ['activation_367[0][0]']         \n",
            "                                                                                                  \n",
            " batch_normalization_399 (Batch  (None, 2, 2, 256)   1024        ['conv2d_399[0][0]']             \n",
            " Normalization)                                                                                   \n",
            "                                                                                                  \n",
            " activation_368 (Activation)    (None, 2, 2, 256)    0           ['batch_normalization_399[0][0]']\n",
            "                                                                                                  \n",
            " conv2d_400 (Conv2D)            (None, 2, 2, 256)    590080      ['activation_368[0][0]']         \n",
            "                                                                                                  \n",
            " batch_normalization_400 (Batch  (None, 2, 2, 256)   1024        ['conv2d_400[0][0]']             \n",
            " Normalization)                                                                                   \n",
            "                                                                                                  \n",
            " activation_369 (Activation)    (None, 2, 2, 256)    0           ['batch_normalization_400[0][0]']\n",
            "                                                                                                  \n",
            " conv2d_401 (Conv2D)            (None, 2, 2, 1024)   263168      ['activation_369[0][0]']         \n",
            "                                                                                                  \n",
            " batch_normalization_401 (Batch  (None, 2, 2, 1024)  4096        ['conv2d_401[0][0]']             \n",
            " Normalization)                                                                                   \n",
            "                                                                                                  \n",
            " add_120 (Add)                  (None, 2, 2, 1024)   0           ['batch_normalization_401[0][0]',\n",
            "                                                                  'activation_367[0][0]']         \n",
            "                                                                                                  \n",
            " activation_370 (Activation)    (None, 2, 2, 1024)   0           ['add_120[0][0]']                \n",
            "                                                                                                  \n",
            " conv2d_402 (Conv2D)            (None, 2, 2, 256)    262400      ['activation_370[0][0]']         \n",
            "                                                                                                  \n",
            " batch_normalization_402 (Batch  (None, 2, 2, 256)   1024        ['conv2d_402[0][0]']             \n",
            " Normalization)                                                                                   \n",
            "                                                                                                  \n",
            " activation_371 (Activation)    (None, 2, 2, 256)    0           ['batch_normalization_402[0][0]']\n",
            "                                                                                                  \n",
            " conv2d_403 (Conv2D)            (None, 2, 2, 256)    590080      ['activation_371[0][0]']         \n",
            "                                                                                                  \n",
            " batch_normalization_403 (Batch  (None, 2, 2, 256)   1024        ['conv2d_403[0][0]']             \n",
            " Normalization)                                                                                   \n",
            "                                                                                                  \n",
            " activation_372 (Activation)    (None, 2, 2, 256)    0           ['batch_normalization_403[0][0]']\n",
            "                                                                                                  \n",
            " conv2d_404 (Conv2D)            (None, 2, 2, 1024)   263168      ['activation_372[0][0]']         \n",
            "                                                                                                  \n",
            " batch_normalization_404 (Batch  (None, 2, 2, 1024)  4096        ['conv2d_404[0][0]']             \n",
            " Normalization)                                                                                   \n",
            "                                                                                                  \n",
            " add_121 (Add)                  (None, 2, 2, 1024)   0           ['batch_normalization_404[0][0]',\n",
            "                                                                  'activation_370[0][0]']         \n",
            "                                                                                                  \n",
            " activation_373 (Activation)    (None, 2, 2, 1024)   0           ['add_121[0][0]']                \n",
            "                                                                                                  \n",
            " conv2d_405 (Conv2D)            (None, 2, 2, 256)    262400      ['activation_373[0][0]']         \n",
            "                                                                                                  \n",
            " batch_normalization_405 (Batch  (None, 2, 2, 256)   1024        ['conv2d_405[0][0]']             \n",
            " Normalization)                                                                                   \n",
            "                                                                                                  \n",
            " activation_374 (Activation)    (None, 2, 2, 256)    0           ['batch_normalization_405[0][0]']\n",
            "                                                                                                  \n",
            " conv2d_406 (Conv2D)            (None, 2, 2, 256)    590080      ['activation_374[0][0]']         \n",
            "                                                                                                  \n",
            " batch_normalization_406 (Batch  (None, 2, 2, 256)   1024        ['conv2d_406[0][0]']             \n",
            " Normalization)                                                                                   \n",
            "                                                                                                  \n",
            " activation_375 (Activation)    (None, 2, 2, 256)    0           ['batch_normalization_406[0][0]']\n",
            "                                                                                                  \n",
            " conv2d_407 (Conv2D)            (None, 2, 2, 1024)   263168      ['activation_375[0][0]']         \n",
            "                                                                                                  \n",
            " batch_normalization_407 (Batch  (None, 2, 2, 1024)  4096        ['conv2d_407[0][0]']             \n",
            " Normalization)                                                                                   \n",
            "                                                                                                  \n",
            " add_122 (Add)                  (None, 2, 2, 1024)   0           ['batch_normalization_407[0][0]',\n",
            "                                                                  'activation_373[0][0]']         \n",
            "                                                                                                  \n",
            " activation_376 (Activation)    (None, 2, 2, 1024)   0           ['add_122[0][0]']                \n",
            "                                                                                                  \n",
            " conv2d_408 (Conv2D)            (None, 2, 2, 256)    262400      ['activation_376[0][0]']         \n",
            "                                                                                                  \n",
            " batch_normalization_408 (Batch  (None, 2, 2, 256)   1024        ['conv2d_408[0][0]']             \n",
            " Normalization)                                                                                   \n",
            "                                                                                                  \n",
            " activation_377 (Activation)    (None, 2, 2, 256)    0           ['batch_normalization_408[0][0]']\n",
            "                                                                                                  \n",
            " conv2d_409 (Conv2D)            (None, 2, 2, 256)    590080      ['activation_377[0][0]']         \n",
            "                                                                                                  \n",
            " batch_normalization_409 (Batch  (None, 2, 2, 256)   1024        ['conv2d_409[0][0]']             \n",
            " Normalization)                                                                                   \n",
            "                                                                                                  \n",
            " activation_378 (Activation)    (None, 2, 2, 256)    0           ['batch_normalization_409[0][0]']\n",
            "                                                                                                  \n",
            " conv2d_410 (Conv2D)            (None, 2, 2, 1024)   263168      ['activation_378[0][0]']         \n",
            "                                                                                                  \n",
            " batch_normalization_410 (Batch  (None, 2, 2, 1024)  4096        ['conv2d_410[0][0]']             \n",
            " Normalization)                                                                                   \n",
            "                                                                                                  \n",
            " add_123 (Add)                  (None, 2, 2, 1024)   0           ['batch_normalization_410[0][0]',\n",
            "                                                                  'activation_376[0][0]']         \n",
            "                                                                                                  \n",
            " activation_379 (Activation)    (None, 2, 2, 1024)   0           ['add_123[0][0]']                \n",
            "                                                                                                  \n",
            " conv2d_411 (Conv2D)            (None, 2, 2, 256)    262400      ['activation_379[0][0]']         \n",
            "                                                                                                  \n",
            " batch_normalization_411 (Batch  (None, 2, 2, 256)   1024        ['conv2d_411[0][0]']             \n",
            " Normalization)                                                                                   \n",
            "                                                                                                  \n",
            " activation_380 (Activation)    (None, 2, 2, 256)    0           ['batch_normalization_411[0][0]']\n",
            "                                                                                                  \n",
            " conv2d_412 (Conv2D)            (None, 2, 2, 256)    590080      ['activation_380[0][0]']         \n",
            "                                                                                                  \n",
            " batch_normalization_412 (Batch  (None, 2, 2, 256)   1024        ['conv2d_412[0][0]']             \n",
            " Normalization)                                                                                   \n",
            "                                                                                                  \n",
            " activation_381 (Activation)    (None, 2, 2, 256)    0           ['batch_normalization_412[0][0]']\n",
            "                                                                                                  \n",
            " conv2d_413 (Conv2D)            (None, 2, 2, 1024)   263168      ['activation_381[0][0]']         \n",
            "                                                                                                  \n",
            " batch_normalization_413 (Batch  (None, 2, 2, 1024)  4096        ['conv2d_413[0][0]']             \n",
            " Normalization)                                                                                   \n",
            "                                                                                                  \n",
            " add_124 (Add)                  (None, 2, 2, 1024)   0           ['batch_normalization_413[0][0]',\n",
            "                                                                  'activation_379[0][0]']         \n",
            "                                                                                                  \n",
            " activation_382 (Activation)    (None, 2, 2, 1024)   0           ['add_124[0][0]']                \n",
            "                                                                                                  \n",
            " conv2d_414 (Conv2D)            (None, 1, 1, 512)    524800      ['activation_382[0][0]']         \n",
            "                                                                                                  \n",
            " batch_normalization_414 (Batch  (None, 1, 1, 512)   2048        ['conv2d_414[0][0]']             \n",
            " Normalization)                                                                                   \n",
            "                                                                                                  \n",
            " activation_383 (Activation)    (None, 1, 1, 512)    0           ['batch_normalization_414[0][0]']\n",
            "                                                                                                  \n",
            " conv2d_415 (Conv2D)            (None, 1, 1, 512)    2359808     ['activation_383[0][0]']         \n",
            "                                                                                                  \n",
            " batch_normalization_415 (Batch  (None, 1, 1, 512)   2048        ['conv2d_415[0][0]']             \n",
            " Normalization)                                                                                   \n",
            "                                                                                                  \n",
            " activation_384 (Activation)    (None, 1, 1, 512)    0           ['batch_normalization_415[0][0]']\n",
            "                                                                                                  \n",
            " conv2d_416 (Conv2D)            (None, 1, 1, 2048)   1050624     ['activation_384[0][0]']         \n",
            "                                                                                                  \n",
            " conv2d_417 (Conv2D)            (None, 1, 1, 2048)   2099200     ['activation_382[0][0]']         \n",
            "                                                                                                  \n",
            " batch_normalization_416 (Batch  (None, 1, 1, 2048)  8192        ['conv2d_416[0][0]']             \n",
            " Normalization)                                                                                   \n",
            "                                                                                                  \n",
            " batch_normalization_417 (Batch  (None, 1, 1, 2048)  8192        ['conv2d_417[0][0]']             \n",
            " Normalization)                                                                                   \n",
            "                                                                                                  \n",
            " add_125 (Add)                  (None, 1, 1, 2048)   0           ['batch_normalization_416[0][0]',\n",
            "                                                                  'batch_normalization_417[0][0]']\n",
            "                                                                                                  \n",
            " activation_385 (Activation)    (None, 1, 1, 2048)   0           ['add_125[0][0]']                \n",
            "                                                                                                  \n",
            " conv2d_418 (Conv2D)            (None, 1, 1, 512)    1049088     ['activation_385[0][0]']         \n",
            "                                                                                                  \n",
            " batch_normalization_418 (Batch  (None, 1, 1, 512)   2048        ['conv2d_418[0][0]']             \n",
            " Normalization)                                                                                   \n",
            "                                                                                                  \n",
            " activation_386 (Activation)    (None, 1, 1, 512)    0           ['batch_normalization_418[0][0]']\n",
            "                                                                                                  \n",
            " conv2d_419 (Conv2D)            (None, 1, 1, 512)    2359808     ['activation_386[0][0]']         \n",
            "                                                                                                  \n",
            " batch_normalization_419 (Batch  (None, 1, 1, 512)   2048        ['conv2d_419[0][0]']             \n",
            " Normalization)                                                                                   \n",
            "                                                                                                  \n",
            " activation_387 (Activation)    (None, 1, 1, 512)    0           ['batch_normalization_419[0][0]']\n",
            "                                                                                                  \n",
            " conv2d_420 (Conv2D)            (None, 1, 1, 2048)   1050624     ['activation_387[0][0]']         \n",
            "                                                                                                  \n",
            " batch_normalization_420 (Batch  (None, 1, 1, 2048)  8192        ['conv2d_420[0][0]']             \n",
            " Normalization)                                                                                   \n",
            "                                                                                                  \n",
            " add_126 (Add)                  (None, 1, 1, 2048)   0           ['batch_normalization_420[0][0]',\n",
            "                                                                  'activation_385[0][0]']         \n",
            "                                                                                                  \n",
            " activation_388 (Activation)    (None, 1, 1, 2048)   0           ['add_126[0][0]']                \n",
            "                                                                                                  \n",
            " conv2d_421 (Conv2D)            (None, 1, 1, 512)    1049088     ['activation_388[0][0]']         \n",
            "                                                                                                  \n",
            " batch_normalization_421 (Batch  (None, 1, 1, 512)   2048        ['conv2d_421[0][0]']             \n",
            " Normalization)                                                                                   \n",
            "                                                                                                  \n",
            " activation_389 (Activation)    (None, 1, 1, 512)    0           ['batch_normalization_421[0][0]']\n",
            "                                                                                                  \n",
            " conv2d_422 (Conv2D)            (None, 1, 1, 512)    2359808     ['activation_389[0][0]']         \n",
            "                                                                                                  \n",
            " batch_normalization_422 (Batch  (None, 1, 1, 512)   2048        ['conv2d_422[0][0]']             \n",
            " Normalization)                                                                                   \n",
            "                                                                                                  \n",
            " activation_390 (Activation)    (None, 1, 1, 512)    0           ['batch_normalization_422[0][0]']\n",
            "                                                                                                  \n",
            " conv2d_423 (Conv2D)            (None, 1, 1, 2048)   1050624     ['activation_390[0][0]']         \n",
            "                                                                                                  \n",
            " batch_normalization_423 (Batch  (None, 1, 1, 2048)  8192        ['conv2d_423[0][0]']             \n",
            " Normalization)                                                                                   \n",
            "                                                                                                  \n",
            " add_127 (Add)                  (None, 1, 1, 2048)   0           ['batch_normalization_423[0][0]',\n",
            "                                                                  'activation_388[0][0]']         \n",
            "                                                                                                  \n",
            " activation_391 (Activation)    (None, 1, 1, 2048)   0           ['add_127[0][0]']                \n",
            "                                                                                                  \n",
            " average_pooling2d_7 (AveragePo  (None, 1, 1, 2048)  0           ['activation_391[0][0]']         \n",
            " oling2D)                                                                                         \n",
            "                                                                                                  \n",
            " flatten_7 (Flatten)            (None, 2048)         0           ['average_pooling2d_7[0][0]']    \n",
            "                                                                                                  \n",
            " fc100 (Dense)                  (None, 100)          204900      ['flatten_7[0][0]']              \n",
            "                                                                                                  \n",
            "==================================================================================================\n",
            "Total params: 23,792,612\n",
            "Trainable params: 23,739,492\n",
            "Non-trainable params: 53,120\n",
            "__________________________________________________________________________________________________\n"
          ]
        }
      ]
    },
    {
      "cell_type": "code",
      "source": [
        "h = model.fit(X_train, y_train, validation_data = (X_test,y_test),batch_size=32,epochs=50)"
      ],
      "metadata": {
        "colab": {
          "base_uri": "https://localhost:8080/"
        },
        "id": "OJX7Np7r4xf6",
        "outputId": "ee55a5e8-c192-4530-f6f3-1928b57d8263"
      },
      "execution_count": 116,
      "outputs": [
        {
          "output_type": "stream",
          "name": "stdout",
          "text": [
            "Epoch 1/50\n",
            "1563/1563 [==============================] - 86s 44ms/step - loss: 4.9826 - accuracy: 0.0713 - val_loss: 4.7996 - val_accuracy: 0.0228\n",
            "Epoch 2/50\n",
            "1563/1563 [==============================] - 67s 43ms/step - loss: 4.2205 - accuracy: 0.1108 - val_loss: 5.3350 - val_accuracy: 0.1463\n",
            "Epoch 3/50\n",
            "1563/1563 [==============================] - 69s 44ms/step - loss: 3.9103 - accuracy: 0.1353 - val_loss: 5.1806 - val_accuracy: 0.1654\n",
            "Epoch 4/50\n",
            "1563/1563 [==============================] - 67s 43ms/step - loss: 3.5611 - accuracy: 0.1825 - val_loss: 5.0668 - val_accuracy: 0.1644\n",
            "Epoch 5/50\n",
            "1563/1563 [==============================] - 67s 43ms/step - loss: 3.3428 - accuracy: 0.2156 - val_loss: 3.3668 - val_accuracy: 0.2347\n",
            "Epoch 6/50\n",
            "1563/1563 [==============================] - 67s 43ms/step - loss: 3.0574 - accuracy: 0.2596 - val_loss: 3.2350 - val_accuracy: 0.2478\n",
            "Epoch 7/50\n",
            "1563/1563 [==============================] - 69s 44ms/step - loss: 2.8396 - accuracy: 0.2966 - val_loss: 11.5082 - val_accuracy: 0.1730\n",
            "Epoch 8/50\n",
            "1563/1563 [==============================] - 67s 43ms/step - loss: 2.6549 - accuracy: 0.3327 - val_loss: 4.2693 - val_accuracy: 0.2491\n",
            "Epoch 9/50\n",
            "1563/1563 [==============================] - 69s 44ms/step - loss: 2.5537 - accuracy: 0.3472 - val_loss: 3.4745 - val_accuracy: 0.3375\n",
            "Epoch 10/50\n",
            "1563/1563 [==============================] - 67s 43ms/step - loss: 2.2886 - accuracy: 0.3975 - val_loss: 2.6454 - val_accuracy: 0.3645\n",
            "Epoch 11/50\n",
            "1563/1563 [==============================] - 68s 43ms/step - loss: 2.1775 - accuracy: 0.4214 - val_loss: 4.1365 - val_accuracy: 0.3254\n",
            "Epoch 12/50\n",
            "1563/1563 [==============================] - 67s 43ms/step - loss: 2.0936 - accuracy: 0.4405 - val_loss: 5.2156 - val_accuracy: 0.3806\n",
            "Epoch 13/50\n",
            "1563/1563 [==============================] - 68s 43ms/step - loss: 1.8870 - accuracy: 0.4825 - val_loss: 3.0724 - val_accuracy: 0.3872\n",
            "Epoch 14/50\n",
            "1563/1563 [==============================] - 69s 44ms/step - loss: 1.8042 - accuracy: 0.5022 - val_loss: 2.8720 - val_accuracy: 0.3733\n",
            "Epoch 15/50\n",
            "1563/1563 [==============================] - 67s 43ms/step - loss: 1.8521 - accuracy: 0.4945 - val_loss: 3.7342 - val_accuracy: 0.3964\n",
            "Epoch 16/50\n",
            "1563/1563 [==============================] - 67s 43ms/step - loss: 1.4936 - accuracy: 0.5774 - val_loss: 4.9728 - val_accuracy: 0.4015\n",
            "Epoch 17/50\n",
            "1563/1563 [==============================] - 67s 43ms/step - loss: 1.3235 - accuracy: 0.6174 - val_loss: 4.6720 - val_accuracy: 0.3842\n",
            "Epoch 18/50\n",
            "1563/1563 [==============================] - 67s 43ms/step - loss: 1.2710 - accuracy: 0.6282 - val_loss: 3.2826 - val_accuracy: 0.4161\n",
            "Epoch 19/50\n",
            "1563/1563 [==============================] - 67s 43ms/step - loss: 1.2956 - accuracy: 0.6258 - val_loss: 3.3051 - val_accuracy: 0.3868\n",
            "Epoch 20/50\n",
            "1563/1563 [==============================] - 67s 43ms/step - loss: 1.0201 - accuracy: 0.6943 - val_loss: 3.1237 - val_accuracy: 0.4152\n",
            "Epoch 21/50\n",
            "1563/1563 [==============================] - 68s 44ms/step - loss: 1.0555 - accuracy: 0.6876 - val_loss: 4.6951 - val_accuracy: 0.3948\n",
            "Epoch 22/50\n",
            "1563/1563 [==============================] - 68s 43ms/step - loss: 0.8190 - accuracy: 0.7483 - val_loss: 3.6584 - val_accuracy: 0.3868\n",
            "Epoch 23/50\n",
            "1563/1563 [==============================] - 67s 43ms/step - loss: 0.7495 - accuracy: 0.7703 - val_loss: 6.8606 - val_accuracy: 0.3483\n",
            "Epoch 24/50\n",
            "1563/1563 [==============================] - 67s 43ms/step - loss: 0.9091 - accuracy: 0.7232 - val_loss: 3.5033 - val_accuracy: 0.4094\n",
            "Epoch 25/50\n",
            "1563/1563 [==============================] - 69s 44ms/step - loss: 0.6499 - accuracy: 0.7977 - val_loss: 3.9660 - val_accuracy: 0.4151\n",
            "Epoch 26/50\n",
            "1563/1563 [==============================] - 67s 43ms/step - loss: 0.6274 - accuracy: 0.8051 - val_loss: 4.0959 - val_accuracy: 0.4090\n",
            "Epoch 27/50\n",
            "1563/1563 [==============================] - 68s 43ms/step - loss: 0.6801 - accuracy: 0.7955 - val_loss: 3.8502 - val_accuracy: 0.3688\n",
            "Epoch 28/50\n",
            "1563/1563 [==============================] - 67s 43ms/step - loss: 0.5701 - accuracy: 0.8209 - val_loss: 3.8718 - val_accuracy: 0.3567\n",
            "Epoch 29/50\n",
            "1563/1563 [==============================] - 68s 43ms/step - loss: 0.4240 - accuracy: 0.8656 - val_loss: 3.8846 - val_accuracy: 0.3958\n",
            "Epoch 30/50\n",
            "1563/1563 [==============================] - 68s 43ms/step - loss: 0.4255 - accuracy: 0.8644 - val_loss: 3.6361 - val_accuracy: 0.4168\n",
            "Epoch 31/50\n",
            "1563/1563 [==============================] - 68s 43ms/step - loss: 0.4409 - accuracy: 0.8605 - val_loss: 3.9878 - val_accuracy: 0.3847\n",
            "Epoch 32/50\n",
            "1563/1563 [==============================] - 68s 44ms/step - loss: 0.3927 - accuracy: 0.8752 - val_loss: 4.1153 - val_accuracy: 0.3890\n",
            "Epoch 33/50\n",
            "1563/1563 [==============================] - 67s 43ms/step - loss: 0.3287 - accuracy: 0.8954 - val_loss: 4.0243 - val_accuracy: 0.4049\n",
            "Epoch 34/50\n",
            "1563/1563 [==============================] - 67s 43ms/step - loss: 0.3073 - accuracy: 0.9017 - val_loss: 4.5537 - val_accuracy: 0.3660\n",
            "Epoch 35/50\n",
            "1563/1563 [==============================] - 67s 43ms/step - loss: 0.3486 - accuracy: 0.8879 - val_loss: 5.4457 - val_accuracy: 0.2821\n",
            "Epoch 36/50\n",
            "1563/1563 [==============================] - 69s 44ms/step - loss: 0.4094 - accuracy: 0.8734 - val_loss: 3.8420 - val_accuracy: 0.4091\n",
            "Epoch 37/50\n",
            "1563/1563 [==============================] - 67s 43ms/step - loss: 0.3096 - accuracy: 0.8999 - val_loss: 4.1085 - val_accuracy: 0.4050\n",
            "Epoch 38/50\n",
            "1563/1563 [==============================] - 67s 43ms/step - loss: 0.2301 - accuracy: 0.9249 - val_loss: 4.5375 - val_accuracy: 0.4025\n",
            "Epoch 39/50\n",
            "1563/1563 [==============================] - 67s 43ms/step - loss: 0.3156 - accuracy: 0.9012 - val_loss: 4.4820 - val_accuracy: 0.3761\n",
            "Epoch 40/50\n",
            "1563/1563 [==============================] - 69s 44ms/step - loss: 0.3645 - accuracy: 0.8845 - val_loss: 4.8182 - val_accuracy: 0.4013\n",
            "Epoch 41/50\n",
            "1563/1563 [==============================] - 67s 43ms/step - loss: 0.4605 - accuracy: 0.8600 - val_loss: 4.8979 - val_accuracy: 0.4035\n",
            "Epoch 42/50\n",
            "1563/1563 [==============================] - 67s 43ms/step - loss: 0.3021 - accuracy: 0.9047 - val_loss: 5.9579 - val_accuracy: 0.4013\n",
            "Epoch 43/50\n",
            "1563/1563 [==============================] - 67s 43ms/step - loss: 0.3057 - accuracy: 0.9046 - val_loss: 6.0508 - val_accuracy: 0.4036\n",
            "Epoch 44/50\n",
            "1563/1563 [==============================] - 69s 44ms/step - loss: 0.3112 - accuracy: 0.9028 - val_loss: 8.4381 - val_accuracy: 0.4004\n",
            "Epoch 45/50\n",
            "1563/1563 [==============================] - 68s 43ms/step - loss: 0.3537 - accuracy: 0.8898 - val_loss: 7.1180 - val_accuracy: 0.4066\n",
            "Epoch 46/50\n",
            "1563/1563 [==============================] - 67s 43ms/step - loss: 0.1974 - accuracy: 0.9371 - val_loss: 6.1675 - val_accuracy: 0.4058\n",
            "Epoch 47/50\n",
            "1563/1563 [==============================] - 69s 44ms/step - loss: 0.2514 - accuracy: 0.9202 - val_loss: 8.6861 - val_accuracy: 0.4065\n",
            "Epoch 48/50\n",
            "1563/1563 [==============================] - 68s 44ms/step - loss: 0.2047 - accuracy: 0.9345 - val_loss: 10.9330 - val_accuracy: 0.3976\n",
            "Epoch 49/50\n",
            "1563/1563 [==============================] - 67s 43ms/step - loss: 0.3416 - accuracy: 0.8949 - val_loss: 11.1863 - val_accuracy: 0.3990\n",
            "Epoch 50/50\n",
            "1563/1563 [==============================] - 67s 43ms/step - loss: 0.2327 - accuracy: 0.9289 - val_loss: 9.6136 - val_accuracy: 0.3832\n"
          ]
        }
      ]
    },
    {
      "cell_type": "code",
      "source": [
        "plt.plot(h.history['loss'])\n",
        "plt.plot(h.history['val_loss'])\n",
        "plt.grid()\n",
        "plt.xlabel('Epochs')\n",
        "plt.ylabel('Training loss')"
      ],
      "metadata": {
        "colab": {
          "base_uri": "https://localhost:8080/",
          "height": 299
        },
        "id": "k8wI_hKfRWt6",
        "outputId": "1ee9c6af-8b78-42fe-edd4-0b124d28cc1d"
      },
      "execution_count": 117,
      "outputs": [
        {
          "output_type": "execute_result",
          "data": {
            "text/plain": [
              "Text(0, 0.5, 'Training loss')"
            ]
          },
          "metadata": {},
          "execution_count": 117
        },
        {
          "output_type": "display_data",
          "data": {
            "text/plain": [
              "<Figure size 432x288 with 1 Axes>"
            ],
            "image/png": "[encoded data removed]"
          },
          "metadata": {
            "needs_background": "light"
          }
        }
      ]
    },
    {
      "cell_type": "code",
      "source": [
        "plt.plot(h.history['accuracy'])\n",
        "plt.plot(h.history['val_accuracy'])\n",
        "plt.grid()\n",
        "plt.xlabel('Epochs')\n",
        "plt.ylabel('Training Accuracy')"
      ],
      "metadata": {
        "colab": {
          "base_uri": "https://localhost:8080/",
          "height": 296
        },
        "id": "rYgqgRVVRvK4",
        "outputId": "7b2fe0dc-853a-41f4-ffed-89c741df2057"
      },
      "execution_count": 118,
      "outputs": [
        {
          "output_type": "execute_result",
          "data": {
            "text/plain": [
              "Text(0, 0.5, 'Training Accuracy')"
            ]
          },
          "metadata": {},
          "execution_count": 118
        },
        {
          "output_type": "display_data",
          "data": {
            "text/plain": [
              "<Figure size 432x288 with 1 Axes>"
            ],
            "image/png": "[encoded data removed]"
          },
          "metadata": {
            "needs_background": "light"
          }
        }
      ]
    },
    {
      "cell_type": "code",
      "source": [
        "scores = model.evaluate(X_test,y_test)"
      ],
      "metadata": {
        "colab": {
          "base_uri": "https://localhost:8080/"
        },
        "id": "NG4ZTfnIR3BH",
        "outputId": "59dcb256-9be8-4a9e-c4be-e0ebcc2be182"
      },
      "execution_count": 121,
      "outputs": [
        {
          "output_type": "stream",
          "name": "stdout",
          "text": [
            "313/313 [==============================] - 4s 14ms/step - loss: 9.6136 - accuracy: 0.3832\n"
          ]
        }
      ]
    }
  ]
}