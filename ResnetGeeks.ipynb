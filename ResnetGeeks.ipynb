{
  "cells": [
    {
      "cell_type": "markdown",
      "metadata": {
        "id": "view-in-github",
        "colab_type": "text"
      },
      "source": [
        "<a href=\"https://colab.research.google.com/github/rachanashinde15/Predicting-bank-deposit-using-deep-learning/blob/main/ResnetGeeks.ipynb\" target=\"_parent\"><img src=\"https://colab.research.google.com/assets/colab-badge.svg\" alt=\"Open In Colab\"/></a>"
      ]
    },
    {
      "cell_type": "code",
      "execution_count": 2,
      "metadata": {
        "id": "AF-fFZuQpojJ"
      },
      "outputs": [],
      "source": [
        "import keras\n",
        "from keras.layers import Dense, Conv2D, BatchNormalization, Activation, Dropout\n",
        "from keras.layers import AveragePooling2D, Input, Flatten\n",
        "from tensorflow.keras.optimizers import Adam\n",
        "from keras.callbacks import ModelCheckpoint, LearningRateScheduler\n",
        "from keras.preprocessing.image import ImageDataGenerator\n",
        "from keras.callbacks import ReduceLROnPlateau\n",
        "from keras.regularizers import l2\n",
        "from keras.utils import np_utils\n",
        "from keras import backend as K\n",
        "from keras.models import Model\n",
        "from keras.datasets import cifar100\n",
        "import numpy as np\n",
        "import tensorflow as tf\n",
        "import os"
      ]
    },
    {
      "cell_type": "code",
      "execution_count": 3,
      "metadata": {
        "id": "tFh7SKPtrJph"
      },
      "outputs": [],
      "source": [
        "os.environ['TF_CPP_MIN_LOG_LEVEL'] = '3'"
      ]
    },
    {
      "cell_type": "code",
      "execution_count": 4,
      "metadata": {
        "id": "ofVEU0BMrM7m"
      },
      "outputs": [],
      "source": [
        "batch_size = 64\n",
        "epochs = 200\n",
        "num_classes = 100\n",
        "depth = 20\n",
        "data_augmentation = True\n",
        "subtract_pixel_mean = True\n",
        "n=3"
      ]
    },
    {
      "cell_type": "code",
      "source": [
        "version = 1"
      ],
      "metadata": {
        "id": "Aa1g4hyUNigW"
      },
      "execution_count": 5,
      "outputs": []
    },
    {
      "cell_type": "code",
      "source": [
        "if version == 1:\n",
        "    depth = n * 6 + 2\n",
        "elif version == 2:\n",
        "    depth = n * 9 + 2"
      ],
      "metadata": {
        "id": "KP3L4FyYNl1P"
      },
      "execution_count": 6,
      "outputs": []
    },
    {
      "cell_type": "code",
      "execution_count": 7,
      "metadata": {
        "id": "FJz7hcsIrtJ0"
      },
      "outputs": [],
      "source": [
        "model_type = 'ResNet%d' % (depth)"
      ]
    },
    {
      "cell_type": "code",
      "execution_count": 8,
      "metadata": {
        "id": "2wVKEcCXrvuB",
        "colab": {
          "base_uri": "https://localhost:8080/"
        },
        "outputId": "56484c49-5b18-4c7e-82b5-ffba53167d48"
      },
      "outputs": [
        {
          "output_type": "stream",
          "name": "stdout",
          "text": [
            "Downloading data from https://www.cs.toronto.edu/~kriz/cifar-100-python.tar.gz\n",
            "169009152/169001437 [==============================] - 2s 0us/step\n",
            "169017344/169001437 [==============================] - 2s 0us/step\n"
          ]
        }
      ],
      "source": [
        "(x_train, y_train), (x_test, y_test) = cifar100.load_data()"
      ]
    },
    {
      "cell_type": "code",
      "execution_count": 9,
      "metadata": {
        "colab": {
          "base_uri": "https://localhost:8080/"
        },
        "id": "Qv8QwUekrzzF",
        "outputId": "a3091ca0-521d-44f2-f780-ddc862099073"
      },
      "outputs": [
        {
          "output_type": "execute_result",
          "data": {
            "text/plain": [
              "(32, 32, 3)"
            ]
          },
          "metadata": {},
          "execution_count": 9
        }
      ],
      "source": [
        "input_shape = x_train.shape[1:]\n",
        "input_shape"
      ]
    },
    {
      "cell_type": "code",
      "execution_count": 10,
      "metadata": {
        "id": "VTeetYmgr20H"
      },
      "outputs": [],
      "source": [
        "x_train = x_train.astype('float32') / 255\n",
        "x_test = x_test.astype('float32') / 255"
      ]
    },
    {
      "cell_type": "code",
      "execution_count": 11,
      "metadata": {
        "id": "XpnTg41sr5UQ"
      },
      "outputs": [],
      "source": [
        "if subtract_pixel_mean:\n",
        "  x_train_mean = np.mean(x_train, axis=0)\n",
        "  x_train -= x_train_mean\n",
        "  x_test -= x_train_mean"
      ]
    },
    {
      "cell_type": "code",
      "execution_count": 12,
      "metadata": {
        "colab": {
          "base_uri": "https://localhost:8080/"
        },
        "id": "xcAuQS3gr7-u",
        "outputId": "028767a0-3a39-4a85-c642-442238377996"
      },
      "outputs": [
        {
          "output_type": "stream",
          "name": "stdout",
          "text": [
            "x_train shape: (50000, 32, 32, 3)\n",
            "y_train shape: (50000, 1)\n",
            "50000 train samples\n",
            "10000 test samples\n"
          ]
        }
      ],
      "source": [
        "print('x_train shape:', x_train.shape)\n",
        "print('y_train shape:', y_train.shape)\n",
        "print(x_train.shape[0], 'train samples')\n",
        "print(x_test.shape[0], 'test samples')"
      ]
    },
    {
      "cell_type": "code",
      "execution_count": 13,
      "metadata": {
        "id": "pElUNR21r_hF"
      },
      "outputs": [],
      "source": [
        "y_train = keras.utils.np_utils.to_categorical(y_train, num_classes)\n",
        "y_test = keras.utils.np_utils.to_categorical(y_test, num_classes)"
      ]
    },
    {
      "cell_type": "code",
      "execution_count": 14,
      "metadata": {
        "id": "-t1Xp120sj_T"
      },
      "outputs": [],
      "source": [
        "# Setting LR for different number of Epochs\n",
        "def lr_schedule(epoch):\n",
        "\tlr = 1e-3\n",
        "\tif epoch > 180:\n",
        "\t\tlr *= 0.5e-3\n",
        "\telif epoch > 160:\n",
        "\t\tlr *= 1e-3\n",
        "\telif epoch > 120:\n",
        "\t\tlr *= 1e-2\n",
        "\telif epoch > 80:\n",
        "\t\tlr *= 1e-1\n",
        "\tprint('Learning rate: ', lr)\n",
        "\treturn lr\n"
      ]
    },
    {
      "cell_type": "code",
      "execution_count": 15,
      "metadata": {
        "id": "87SnclQjsmYO"
      },
      "outputs": [],
      "source": [
        "def resnet_layer(inputs, num_filters=16, kernel_size=3, strides=1, activation='relu', batch_normalization=True, conv_first=True):\n",
        "  \n",
        "  conv = Conv2D(num_filters, kernel_size=kernel_size, strides=strides, padding='same', kernel_initializer='he_normal', kernel_regularizer=l2(1e-4))\n",
        "\n",
        "  x = inputs\n",
        "  if conv_first:\n",
        "      x = conv(x)\n",
        "      if batch_normalization:\n",
        "          x = BatchNormalization()(x)\n",
        "      if activation is not None:\n",
        "          x = Activation(activation)(x)\n",
        "  else:\n",
        "      if batch_normalization:\n",
        "          x = BatchNormalization()(x)\n",
        "      if activation is not None:\n",
        "          x = Activation(activation)(x)\n",
        "      x = conv(x)\n",
        "  return x"
      ]
    },
    {
      "cell_type": "code",
      "execution_count": 16,
      "metadata": {
        "id": "uJlvLWH6srKm"
      },
      "outputs": [],
      "source": [
        "def resnet_v1(input_shape, depth, num_classes=100):\n",
        "    \n",
        "    if (depth - 2) % 6 != 0:\n",
        "        raise ValueError('depth should be 6n+2 (eg 20, 32, 44 in [a])')\n",
        "    # Start model definition.\n",
        "    num_filters = 16\n",
        "    num_res_blocks = int((depth - 2) / 6)\n",
        "\n",
        "    inputs = Input(shape=input_shape)\n",
        "    x = resnet_layer(inputs=inputs)\n",
        "    # Instantiate the stack of residual units\n",
        "    for stack in range(3):\n",
        "        for res_block in range(num_res_blocks):\n",
        "            strides = 1\n",
        "            if stack > 0 and res_block == 0:  # first layer but not first stack\n",
        "                strides = 2  # downsample\n",
        "            y = resnet_layer(inputs=x,num_filters=num_filters,strides=strides)\n",
        "            y = resnet_layer(inputs=y,num_filters=num_filters,activation=None)\n",
        "            if stack > 0 and res_block == 0:  # first layer but not first stack\n",
        "                # linear projection residual shortcut connection to match\n",
        "                # changed dims\n",
        "                x = resnet_layer(inputs=x,num_filters=num_filters,kernel_size=1,strides=strides,activation=None,batch_normalization=False)\n",
        "            x = keras.layers.add([x, y])\n",
        "            x = Activation('relu')(x)\n",
        "            #x = Dropout(rate=0.25)(x)\n",
        "        num_filters *= 2\n",
        "\n",
        "    # Add classifier on top.\n",
        "    # v1 does not use BN after last shortcut connection-ReLU\n",
        "    x = AveragePooling2D(pool_size=8)(x)\n",
        "    y = Flatten()(x)\n",
        "    outputs = Dense(num_classes, activation='softmax', kernel_initializer='he_normal')(y)\n",
        "\n",
        "    # Instantiate model.\n",
        "    model = Model(inputs=inputs, outputs=outputs)\n",
        "    return model"
      ]
    },
    {
      "cell_type": "code",
      "source": [
        "# ResNet V2 architecture\n",
        "def resnet_v2(input_shape, depth, num_classes=10):\n",
        "\tif (depth - 2) % 9 != 0:\n",
        "\t\traise ValueError('depth should be 9n + 2 (eg 56 or 110 in [b])')\n",
        "\t# Start model definition.\n",
        "\tnum_filters_in = 16\n",
        "\tnum_res_blocks = int((depth - 2) / 9)\n",
        "\n",
        "\tinputs = Input(shape=input_shape)\n",
        "\t# v2 performs Conv2D with BN-ReLU on input before splitting into 2 paths\n",
        "\tx = resnet_layer(inputs=inputs,\n",
        "\t\t\t\t\tnum_filters=num_filters_in,\n",
        "\t\t\t\t\tconv_first=True)\n",
        "\n",
        "\t# Instantiate the stack of residual units\n",
        "\tfor stage in range(3):\n",
        "\t\tfor res_block in range(num_res_blocks):\n",
        "\t\t\tactivation = 'relu'\n",
        "\t\t\tbatch_normalization = True\n",
        "\t\t\tstrides = 1\n",
        "\t\t\tif stage == 0:\n",
        "\t\t\t\tnum_filters_out = num_filters_in * 4\n",
        "\t\t\t\tif res_block == 0: # first layer and first stage\n",
        "\t\t\t\t\tactivation = None\n",
        "\t\t\t\t\tbatch_normalization = False\n",
        "\t\t\telse:\n",
        "\t\t\t\tnum_filters_out = num_filters_in * 2\n",
        "\t\t\t\tif res_block == 0: # first layer but not first stage\n",
        "\t\t\t\t\tstrides = 2 # downsample\n",
        "\n",
        "\t\t\t# bottleneck residual unit\n",
        "\t\t\ty = resnet_layer(inputs=x,\n",
        "\t\t\t\t\t\t\tnum_filters=num_filters_in,\n",
        "\t\t\t\t\t\t\tkernel_size=1,\n",
        "\t\t\t\t\t\t\tstrides=strides,\n",
        "\t\t\t\t\t\t\tactivation=activation,\n",
        "\t\t\t\t\t\t\tbatch_normalization=batch_normalization,\n",
        "\t\t\t\t\t\t\tconv_first=False)\n",
        "\t\t\ty = resnet_layer(inputs=y,\n",
        "\t\t\t\t\t\t\tnum_filters=num_filters_in,\n",
        "\t\t\t\t\t\t\tconv_first=False)\n",
        "\t\t\ty = resnet_layer(inputs=y,\n",
        "\t\t\t\t\t\t\tnum_filters=num_filters_out,\n",
        "\t\t\t\t\t\t\tkernel_size=1,\n",
        "\t\t\t\t\t\t\tconv_first=False)\n",
        "\t\t\tif res_block == 0:\n",
        "\t\t\t\t# linear projection residual shortcut connection to match\n",
        "\t\t\t\t# changed dims\n",
        "\t\t\t\tx = resnet_layer(inputs=x,\n",
        "\t\t\t\t\t\t\t\tnum_filters=num_filters_out,\n",
        "\t\t\t\t\t\t\t\tkernel_size=1,\n",
        "\t\t\t\t\t\t\t\tstrides=strides,\n",
        "\t\t\t\t\t\t\t\tactivation=None,\n",
        "\t\t\t\t\t\t\t\tbatch_normalization=False)\n",
        "\t\t\tx = keras.layers.add([x, y])\n",
        "\n",
        "\t\tnum_filters_in = num_filters_out\n",
        "\n",
        "\t# Add classifier on top.\n",
        "\t# v2 has BN-ReLU before Pooling\n",
        "\tx = BatchNormalization()(x)\n",
        "\tx = Activation('relu')(x)\n",
        "\tx = AveragePooling2D(pool_size=8)(x)\n",
        "\ty = Flatten()(x)\n",
        "\toutputs = Dense(num_classes,\n",
        "\t\t\t\t\tactivation='softmax',\n",
        "\t\t\t\t\tkernel_initializer='he_normal')(y)\n",
        "\n",
        "\t# Instantiate model.\n",
        "\tmodel = Model(inputs=inputs, outputs=outputs)\n",
        "\treturn model\n"
      ],
      "metadata": {
        "id": "INSIssVRMezE"
      },
      "execution_count": 17,
      "outputs": []
    },
    {
      "cell_type": "code",
      "source": [
        "# Main function\n",
        "if version == 2:\n",
        "\tmodel = resnet_v2(input_shape = input_shape, depth = depth)\n",
        "else:\n",
        "\tmodel = resnet_v1(input_shape = input_shape, depth = depth)\n",
        "\n",
        "model.compile(loss ='categorical_crossentropy',\n",
        "\t\t\toptimizer = Adam(learning_rate = lr_schedule(0)),\n",
        "\t\t\tmetrics =['accuracy'])\n",
        "model.summary()\n",
        "print(model_type)\n",
        "\n",
        "# Prepare model saving directory.\n",
        "save_dir = os.path.join(os.getcwd(), 'saved_models')\n",
        "model_name = 'cifar10_% s_model.{epoch:03d}.h5' % model_type\n",
        "if not os.path.isdir(save_dir):\n",
        "\tos.makedirs(save_dir)\n",
        "filepath = os.path.join(save_dir, model_name)\n",
        "\n",
        "# Prepare callbacks for model saving and for learning rate adjustment.\n",
        "checkpoint = ModelCheckpoint(filepath = filepath,\n",
        "\t\t\t\t\t\t\tmonitor ='val_acc',\n",
        "\t\t\t\t\t\t\tverbose = 1,\n",
        "\t\t\t\t\t\t\tsave_best_only = True)\n",
        "\n",
        "lr_scheduler = LearningRateScheduler(lr_schedule)\n",
        "\n",
        "lr_reducer = ReduceLROnPlateau(factor = np.sqrt(0.1),\n",
        "\t\t\t\t\t\t\tcooldown = 0,\n",
        "\t\t\t\t\t\t\tpatience = 5,\n",
        "\t\t\t\t\t\t\tmin_lr = 0.5e-6)\n",
        "\n",
        "callbacks = [checkpoint, lr_reducer, lr_scheduler]\n",
        "\n",
        "# Run training, with or without data augmentation.\n",
        "if not data_augmentation:\n",
        "\tprint('Not using data augmentation.')\n",
        "\tmodel.fit(x_train, y_train,\n",
        "\t\t\tbatch_size = batch_size,\n",
        "\t\t\tepochs = epochs,\n",
        "\t\t\tvalidation_data =(x_test, y_test),\n",
        "\t\t\tshuffle = True,\n",
        "\t\t\tcallbacks = callbacks)\n",
        "else:\n",
        "\tprint('Using real-time data augmentation.')\n",
        "\t# This will do preprocessing and realtime data augmentation:\n",
        "\tdatagen = ImageDataGenerator(\n",
        "\t\t# set input mean to 0 over the dataset\n",
        "\t\tfeaturewise_center = False,\n",
        "\t\t# set each sample mean to 0\n",
        "\t\tsamplewise_center = False,\n",
        "\t\t# divide inputs by std of dataset\n",
        "\t\tfeaturewise_std_normalization = False,\n",
        "\t\t# divide each input by its std\n",
        "\t\tsamplewise_std_normalization = False,\n",
        "\t\t# apply ZCA whitening\n",
        "\t\tzca_whitening = False,\n",
        "\t\t# epsilon for ZCA whitening\n",
        "\t\tzca_epsilon = 1e-06,\n",
        "\t\t# randomly rotate images in the range (deg 0 to 180)\n",
        "\t\trotation_range = 0,\n",
        "\t\t# randomly shift images horizontally\n",
        "\t\twidth_shift_range = 0.1,\n",
        "\t\t# randomly shift images vertically\n",
        "\t\theight_shift_range = 0.1,\n",
        "\t\t# set range for random shear\n",
        "\t\tshear_range = 0.,\n",
        "\t\t# set range for random zoom\n",
        "\t\tzoom_range = 0.,\n",
        "\t\t# set range for random channel shifts\n",
        "\t\tchannel_shift_range = 0.,\n",
        "\t\t# set mode for filling points outside the input boundaries\n",
        "\t\tfill_mode ='nearest',\n",
        "\t\t# value used for fill_mode = \"constant\"\n",
        "\t\tcval = 0.,\n",
        "\t\t# randomly flip images\n",
        "\t\thorizontal_flip = True,\n",
        "\t\t# randomly flip images\n",
        "\t\tvertical_flip = False,\n",
        "\t\t# set rescaling factor (applied before any other transformation)\n",
        "\t\trescale = None,\n",
        "\t\t# set function that will be applied on each input\n",
        "\t\tpreprocessing_function = None,\n",
        "\t\t# image data format, either \"channels_first\" or \"channels_last\"\n",
        "\t\tdata_format = None,\n",
        "\t\t# fraction of images reserved for validation (strictly between 0 and 1)\n",
        "\t\tvalidation_split = 0.0)\n",
        "\n",
        "\t# Compute quantities required for featurewise normalization\n",
        "\t# (std, mean, and principal components if ZCA whitening is applied).\n",
        "\tdatagen.fit(x_train)\n",
        "\n",
        "\t# Fit the model on the batches generated by datagen.flow().\n",
        "\tmodel.fit_generator(datagen.flow(x_train, y_train, batch_size = batch_size),\n",
        "\t\t\t\t\t\tvalidation_data =(x_test, y_test),\n",
        "\t\t\t\t\t\tepochs = epochs, verbose = 1, workers = 4,\n",
        "\t\t\t\t\t\tcallbacks = callbacks)\n",
        "\n",
        "# Score trained model.\n",
        "scores = model.evaluate(x_test, y_test, verbose = 1)\n",
        "print('Test loss:', scores[0])\n",
        "print('Test accuracy:', scores[1])\n"
      ],
      "metadata": {
        "colab": {
          "base_uri": "https://localhost:8080/"
        },
        "id": "rAh1W4SPMoqG",
        "outputId": "05e5c384-a39b-48ef-9e21-b9e6fe514ae8"
      },
      "execution_count": null,
      "outputs": [
        {
          "output_type": "stream",
          "name": "stdout",
          "text": [
            "Learning rate:  0.001\n",
            "Model: \"model\"\n",
            "__________________________________________________________________________________________________\n",
            " Layer (type)                   Output Shape         Param #     Connected to                     \n",
            "==================================================================================================\n",
            " input_1 (InputLayer)           [(None, 32, 32, 3)]  0           []                               \n",
            "                                                                                                  \n",
            " conv2d (Conv2D)                (None, 32, 32, 16)   448         ['input_1[0][0]']                \n",
            "                                                                                                  \n",
            " batch_normalization (BatchNorm  (None, 32, 32, 16)  64          ['conv2d[0][0]']                 \n",
            " alization)                                                                                       \n",
            "                                                                                                  \n",
            " activation (Activation)        (None, 32, 32, 16)   0           ['batch_normalization[0][0]']    \n",
            "                                                                                                  \n",
            " conv2d_1 (Conv2D)              (None, 32, 32, 16)   2320        ['activation[0][0]']             \n",
            "                                                                                                  \n",
            " batch_normalization_1 (BatchNo  (None, 32, 32, 16)  64          ['conv2d_1[0][0]']               \n",
            " rmalization)                                                                                     \n",
            "                                                                                                  \n",
            " activation_1 (Activation)      (None, 32, 32, 16)   0           ['batch_normalization_1[0][0]']  \n",
            "                                                                                                  \n",
            " conv2d_2 (Conv2D)              (None, 32, 32, 16)   2320        ['activation_1[0][0]']           \n",
            "                                                                                                  \n",
            " batch_normalization_2 (BatchNo  (None, 32, 32, 16)  64          ['conv2d_2[0][0]']               \n",
            " rmalization)                                                                                     \n",
            "                                                                                                  \n",
            " add (Add)                      (None, 32, 32, 16)   0           ['activation[0][0]',             \n",
            "                                                                  'batch_normalization_2[0][0]']  \n",
            "                                                                                                  \n",
            " activation_2 (Activation)      (None, 32, 32, 16)   0           ['add[0][0]']                    \n",
            "                                                                                                  \n",
            " conv2d_3 (Conv2D)              (None, 32, 32, 16)   2320        ['activation_2[0][0]']           \n",
            "                                                                                                  \n",
            " batch_normalization_3 (BatchNo  (None, 32, 32, 16)  64          ['conv2d_3[0][0]']               \n",
            " rmalization)                                                                                     \n",
            "                                                                                                  \n",
            " activation_3 (Activation)      (None, 32, 32, 16)   0           ['batch_normalization_3[0][0]']  \n",
            "                                                                                                  \n",
            " conv2d_4 (Conv2D)              (None, 32, 32, 16)   2320        ['activation_3[0][0]']           \n",
            "                                                                                                  \n",
            " batch_normalization_4 (BatchNo  (None, 32, 32, 16)  64          ['conv2d_4[0][0]']               \n",
            " rmalization)                                                                                     \n",
            "                                                                                                  \n",
            " add_1 (Add)                    (None, 32, 32, 16)   0           ['activation_2[0][0]',           \n",
            "                                                                  'batch_normalization_4[0][0]']  \n",
            "                                                                                                  \n",
            " activation_4 (Activation)      (None, 32, 32, 16)   0           ['add_1[0][0]']                  \n",
            "                                                                                                  \n",
            " conv2d_5 (Conv2D)              (None, 32, 32, 16)   2320        ['activation_4[0][0]']           \n",
            "                                                                                                  \n",
            " batch_normalization_5 (BatchNo  (None, 32, 32, 16)  64          ['conv2d_5[0][0]']               \n",
            " rmalization)                                                                                     \n",
            "                                                                                                  \n",
            " activation_5 (Activation)      (None, 32, 32, 16)   0           ['batch_normalization_5[0][0]']  \n",
            "                                                                                                  \n",
            " conv2d_6 (Conv2D)              (None, 32, 32, 16)   2320        ['activation_5[0][0]']           \n",
            "                                                                                                  \n",
            " batch_normalization_6 (BatchNo  (None, 32, 32, 16)  64          ['conv2d_6[0][0]']               \n",
            " rmalization)                                                                                     \n",
            "                                                                                                  \n",
            " add_2 (Add)                    (None, 32, 32, 16)   0           ['activation_4[0][0]',           \n",
            "                                                                  'batch_normalization_6[0][0]']  \n",
            "                                                                                                  \n",
            " activation_6 (Activation)      (None, 32, 32, 16)   0           ['add_2[0][0]']                  \n",
            "                                                                                                  \n",
            " conv2d_7 (Conv2D)              (None, 16, 16, 32)   4640        ['activation_6[0][0]']           \n",
            "                                                                                                  \n",
            " batch_normalization_7 (BatchNo  (None, 16, 16, 32)  128         ['conv2d_7[0][0]']               \n",
            " rmalization)                                                                                     \n",
            "                                                                                                  \n",
            " activation_7 (Activation)      (None, 16, 16, 32)   0           ['batch_normalization_7[0][0]']  \n",
            "                                                                                                  \n",
            " conv2d_8 (Conv2D)              (None, 16, 16, 32)   9248        ['activation_7[0][0]']           \n",
            "                                                                                                  \n",
            " conv2d_9 (Conv2D)              (None, 16, 16, 32)   544         ['activation_6[0][0]']           \n",
            "                                                                                                  \n",
            " batch_normalization_8 (BatchNo  (None, 16, 16, 32)  128         ['conv2d_8[0][0]']               \n",
            " rmalization)                                                                                     \n",
            "                                                                                                  \n",
            " add_3 (Add)                    (None, 16, 16, 32)   0           ['conv2d_9[0][0]',               \n",
            "                                                                  'batch_normalization_8[0][0]']  \n",
            "                                                                                                  \n",
            " activation_8 (Activation)      (None, 16, 16, 32)   0           ['add_3[0][0]']                  \n",
            "                                                                                                  \n",
            " conv2d_10 (Conv2D)             (None, 16, 16, 32)   9248        ['activation_8[0][0]']           \n",
            "                                                                                                  \n",
            " batch_normalization_9 (BatchNo  (None, 16, 16, 32)  128         ['conv2d_10[0][0]']              \n",
            " rmalization)                                                                                     \n",
            "                                                                                                  \n",
            " activation_9 (Activation)      (None, 16, 16, 32)   0           ['batch_normalization_9[0][0]']  \n",
            "                                                                                                  \n",
            " conv2d_11 (Conv2D)             (None, 16, 16, 32)   9248        ['activation_9[0][0]']           \n",
            "                                                                                                  \n",
            " batch_normalization_10 (BatchN  (None, 16, 16, 32)  128         ['conv2d_11[0][0]']              \n",
            " ormalization)                                                                                    \n",
            "                                                                                                  \n",
            " add_4 (Add)                    (None, 16, 16, 32)   0           ['activation_8[0][0]',           \n",
            "                                                                  'batch_normalization_10[0][0]'] \n",
            "                                                                                                  \n",
            " activation_10 (Activation)     (None, 16, 16, 32)   0           ['add_4[0][0]']                  \n",
            "                                                                                                  \n",
            " conv2d_12 (Conv2D)             (None, 16, 16, 32)   9248        ['activation_10[0][0]']          \n",
            "                                                                                                  \n",
            " batch_normalization_11 (BatchN  (None, 16, 16, 32)  128         ['conv2d_12[0][0]']              \n",
            " ormalization)                                                                                    \n",
            "                                                                                                  \n",
            " activation_11 (Activation)     (None, 16, 16, 32)   0           ['batch_normalization_11[0][0]'] \n",
            "                                                                                                  \n",
            " conv2d_13 (Conv2D)             (None, 16, 16, 32)   9248        ['activation_11[0][0]']          \n",
            "                                                                                                  \n",
            " batch_normalization_12 (BatchN  (None, 16, 16, 32)  128         ['conv2d_13[0][0]']              \n",
            " ormalization)                                                                                    \n",
            "                                                                                                  \n",
            " add_5 (Add)                    (None, 16, 16, 32)   0           ['activation_10[0][0]',          \n",
            "                                                                  'batch_normalization_12[0][0]'] \n",
            "                                                                                                  \n",
            " activation_12 (Activation)     (None, 16, 16, 32)   0           ['add_5[0][0]']                  \n",
            "                                                                                                  \n",
            " conv2d_14 (Conv2D)             (None, 8, 8, 64)     18496       ['activation_12[0][0]']          \n",
            "                                                                                                  \n",
            " batch_normalization_13 (BatchN  (None, 8, 8, 64)    256         ['conv2d_14[0][0]']              \n",
            " ormalization)                                                                                    \n",
            "                                                                                                  \n",
            " activation_13 (Activation)     (None, 8, 8, 64)     0           ['batch_normalization_13[0][0]'] \n",
            "                                                                                                  \n",
            " conv2d_15 (Conv2D)             (None, 8, 8, 64)     36928       ['activation_13[0][0]']          \n",
            "                                                                                                  \n",
            " conv2d_16 (Conv2D)             (None, 8, 8, 64)     2112        ['activation_12[0][0]']          \n",
            "                                                                                                  \n",
            " batch_normalization_14 (BatchN  (None, 8, 8, 64)    256         ['conv2d_15[0][0]']              \n",
            " ormalization)                                                                                    \n",
            "                                                                                                  \n",
            " add_6 (Add)                    (None, 8, 8, 64)     0           ['conv2d_16[0][0]',              \n",
            "                                                                  'batch_normalization_14[0][0]'] \n",
            "                                                                                                  \n",
            " activation_14 (Activation)     (None, 8, 8, 64)     0           ['add_6[0][0]']                  \n",
            "                                                                                                  \n",
            " conv2d_17 (Conv2D)             (None, 8, 8, 64)     36928       ['activation_14[0][0]']          \n",
            "                                                                                                  \n",
            " batch_normalization_15 (BatchN  (None, 8, 8, 64)    256         ['conv2d_17[0][0]']              \n",
            " ormalization)                                                                                    \n",
            "                                                                                                  \n",
            " activation_15 (Activation)     (None, 8, 8, 64)     0           ['batch_normalization_15[0][0]'] \n",
            "                                                                                                  \n",
            " conv2d_18 (Conv2D)             (None, 8, 8, 64)     36928       ['activation_15[0][0]']          \n",
            "                                                                                                  \n",
            " batch_normalization_16 (BatchN  (None, 8, 8, 64)    256         ['conv2d_18[0][0]']              \n",
            " ormalization)                                                                                    \n",
            "                                                                                                  \n",
            " add_7 (Add)                    (None, 8, 8, 64)     0           ['activation_14[0][0]',          \n",
            "                                                                  'batch_normalization_16[0][0]'] \n",
            "                                                                                                  \n",
            " activation_16 (Activation)     (None, 8, 8, 64)     0           ['add_7[0][0]']                  \n",
            "                                                                                                  \n",
            " conv2d_19 (Conv2D)             (None, 8, 8, 64)     36928       ['activation_16[0][0]']          \n",
            "                                                                                                  \n",
            " batch_normalization_17 (BatchN  (None, 8, 8, 64)    256         ['conv2d_19[0][0]']              \n",
            " ormalization)                                                                                    \n",
            "                                                                                                  \n",
            " activation_17 (Activation)     (None, 8, 8, 64)     0           ['batch_normalization_17[0][0]'] \n",
            "                                                                                                  \n",
            " conv2d_20 (Conv2D)             (None, 8, 8, 64)     36928       ['activation_17[0][0]']          \n",
            "                                                                                                  \n",
            " batch_normalization_18 (BatchN  (None, 8, 8, 64)    256         ['conv2d_20[0][0]']              \n",
            " ormalization)                                                                                    \n",
            "                                                                                                  \n",
            " add_8 (Add)                    (None, 8, 8, 64)     0           ['activation_16[0][0]',          \n",
            "                                                                  'batch_normalization_18[0][0]'] \n",
            "                                                                                                  \n",
            " activation_18 (Activation)     (None, 8, 8, 64)     0           ['add_8[0][0]']                  \n",
            "                                                                                                  \n",
            " average_pooling2d (AveragePool  (None, 1, 1, 64)    0           ['activation_18[0][0]']          \n",
            " ing2D)                                                                                           \n",
            "                                                                                                  \n",
            " flatten (Flatten)              (None, 64)           0           ['average_pooling2d[0][0]']      \n",
            "                                                                                                  \n",
            " dense (Dense)                  (None, 100)          6500        ['flatten[0][0]']                \n",
            "                                                                                                  \n",
            "==================================================================================================\n",
            "Total params: 280,292\n",
            "Trainable params: 278,916\n",
            "Non-trainable params: 1,376\n",
            "__________________________________________________________________________________________________\n",
            "ResNet20\n",
            "Using real-time data augmentation.\n"
          ]
        },
        {
          "output_type": "stream",
          "name": "stderr",
          "text": [
            "/usr/local/lib/python3.7/dist-packages/ipykernel_launcher.py:97: UserWarning: `Model.fit_generator` is deprecated and will be removed in a future version. Please use `Model.fit`, which supports generators.\n"
          ]
        },
        {
          "output_type": "stream",
          "name": "stdout",
          "text": [
            "Learning rate:  0.001\n",
            "Epoch 1/200\n",
            "118/782 [===>..........................] - ETA: 9:32 - loss: 4.7626 - accuracy: 0.0429"
          ]
        }
      ]
    },
    {
      "cell_type": "code",
      "execution_count": null,
      "metadata": {
        "id": "EzIpPY8nsv_Y"
      },
      "outputs": [],
      "source": [
        "#model = resnet_v1(input_shape=input_shape, depth=depth)"
      ]
    },
    {
      "cell_type": "code",
      "source": [
        "scores = model.evaluate(x_test, y_test, verbose = 1)\n",
        "print('Test loss:', scores[0])\n",
        "print('Test accuracy:', scores[1])"
      ],
      "metadata": {
        "id": "94i3525wMeC1"
      },
      "execution_count": null,
      "outputs": []
    },
    {
      "cell_type": "code",
      "execution_count": null,
      "metadata": {
        "id": "y2Xrqc1bszAq"
      },
      "outputs": [],
      "source": [
        "#model.compile(loss='categorical_crossentropy',optimizer=Adam(lr=lr_schedule(0)),metrics=['accuracy'])"
      ]
    },
    {
      "cell_type": "code",
      "execution_count": null,
      "metadata": {
        "id": "Y2_ZZ3yl8JQW"
      },
      "outputs": [],
      "source": [
        "#model.compile(loss='categorical_crossentropy',optimizer=Adam(learning_rate=0.0001),metrics=['accuracy'])"
      ]
    },
    {
      "cell_type": "code",
      "execution_count": null,
      "metadata": {
        "id": "IfuXFhbFs128"
      },
      "outputs": [],
      "source": [
        "#model.summary()\n",
        "#print(model_type)"
      ]
    },
    {
      "cell_type": "code",
      "execution_count": null,
      "metadata": {
        "id": "CiKE_ebrs5cv"
      },
      "outputs": [],
      "source": [
        "#save_dir = os.path.join(os.getcwd(), 'saved_models_with_dropout')\n",
        "#model_name = 'cifar10_%s_model.{epoch:03d}.h5' % model_type\n",
        "#if not os.path.isdir(save_dir):\n",
        "    #os.makedirs(save_dir)\n",
        "#filepath = os.path.join(save_dir, model_name)"
      ]
    },
    {
      "cell_type": "code",
      "execution_count": null,
      "metadata": {
        "id": "eIUPPED9s8zV"
      },
      "outputs": [],
      "source": [
        "#checkpoint = ModelCheckpoint(filepath=filepath,monitor='val_acc',verbose=1,save_best_only=True)"
      ]
    },
    {
      "cell_type": "code",
      "execution_count": null,
      "metadata": {
        "id": "H5IXaw4Us_lh"
      },
      "outputs": [],
      "source": [
        "#lr_scheduler = LearningRateScheduler(lr_schedule)"
      ]
    },
    {
      "cell_type": "code",
      "execution_count": null,
      "metadata": {
        "id": "KyO7JAsJtDTE"
      },
      "outputs": [],
      "source": [
        "#callbacks = [checkpoint]"
      ]
    },
    {
      "cell_type": "code",
      "execution_count": null,
      "metadata": {
        "id": "yhU1JtWZtGLa"
      },
      "outputs": [],
      "source": [
        "#model.fit(x_train, y_train,batch_size=batch_size,epochs=epochs,validation_data=(x_test, y_test),shuffle=True,callbacks=callbacks)"
      ]
    },
    {
      "cell_type": "code",
      "execution_count": null,
      "metadata": {
        "id": "5Ta3_fMxxQR4"
      },
      "outputs": [],
      "source": [
        "#scores = model.evaluate(x_test, y_test, verbose=1)\n",
        "#print('Test loss:', scores[0])\n",
        "#print('Test accuracy:', scores[1])"
      ]
    }
  ],
  "metadata": {
    "accelerator": "GPU",
    "colab": {
      "name": "ResnetGeeks.ipynb",
      "provenance": [],
      "authorship_tag": "ABX9TyOebjLVBAdd1/O41sgtgtSw",
      "include_colab_link": true
    },
    "gpuClass": "standard",
    "kernelspec": {
      "display_name": "Python 3",
      "name": "python3"
    },
    "language_info": {
      "name": "python"
    }
  },
  "nbformat": 4,
  "nbformat_minor": 0
}